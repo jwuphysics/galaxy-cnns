{
 "cells": [
  {
   "cell_type": "code",
   "execution_count": 1,
   "metadata": {},
   "outputs": [],
   "source": [
    "%reload_ext autoreload\n",
    "%autoreload 2\n",
    "%matplotlib inline\n",
    "\n",
    "from fastai.imports import *\n",
    "from fastai.transforms import *\n",
    "from fastai.conv_learner import *\n",
    "from fastai.model import *\n",
    "from fastai.dataset import *\n",
    "from fastai.sgdr import *\n",
    "from fastai.plots import *\n",
    "\n",
    "import torch \n",
    "\n",
    "from IPython.display import display"
   ]
  },
  {
   "cell_type": "code",
   "execution_count": 2,
   "metadata": {},
   "outputs": [],
   "source": [
    "PATH = os.path.abspath('../..')"
   ]
  },
  {
   "cell_type": "code",
   "execution_count": 3,
   "metadata": {},
   "outputs": [],
   "source": [
    "def parse_csv_multi_class_values(path_to_csv):\n",
    "    \"\"\"Parse filenames and values for classes from a CSV file.\n",
    "\n",
    "    This method expects that the csv file at path :fn: has one column for filenames,\n",
    "    while all the other columns represent classes.\n",
    "    Expects a header with class names\n",
    "\n",
    "    Arguments:\n",
    "        path_to_csv: Path to a CSV file.\n",
    "\n",
    "    Returns:\n",
    "        a three-tuple of:            \n",
    "            a list of filenames\n",
    "            a list of values in the same order\n",
    "            a dictionary of classes by classIndex           \n",
    "    \"\"\"\n",
    "    with open(path_to_csv) as fileobj:\n",
    "        reader = csv.reader(fileobj)\n",
    "        header = next(reader)\n",
    "        csv_lines = [l for l in reader]\n",
    "\n",
    "    fnames = [fname for fname, *_ in csv_lines]\n",
    "    classes = header[1:]\n",
    "    values = [vals for _, *vals in csv_lines]\n",
    "    idx2class = {i:c for i, c in enumerate(classes)}\n",
    "   \n",
    "    return fnames, values, idx2class\n",
    "\n",
    "def csv_source_multi_class(folder, csv_file, suffix=''):\n",
    "    fnames, values, idx2class = parse_csv_multi_class_values(csv_file)\n",
    "    full_names = [os.path.join(folder,fn+suffix) for fn in fnames]\n",
    "   \n",
    "    val_arr = np.array(values).astype(np.float32)\n",
    "    \n",
    "    return full_names, val_arr, idx2class\n",
    "\n",
    "@classmethod\n",
    "def from_multiclass_csv(cls, path, folder, csv_fname, bs=64, tfms=(None,None),\n",
    "           val_idxs=None, suffix='', test_name=None, num_workers=8):\n",
    "    \"\"\" Read in images and their labels given as a CSV file.\n",
    "--\n",
    "    This method should be used when training image labels are given in an CSV file as opposed to\n",
    "    sub-directories with label names.\n",
    "\n",
    "    Arguments:\n",
    "        path: a root path of the data (used for storing trained models, precomputed values, etc)\n",
    "        folder: a name of the folder in which training images are contained.\n",
    "        csv_fname: a name of the CSV file which contains target labels.\n",
    "        bs: batch size\n",
    "        tfms: transformations (for data augmentations). e.g. output of `tfms_from_model`\n",
    "        val_idxs: index of images to be used for validation. e.g. output of `get_cv_idxs`.\n",
    "            If None, default arguments to get_cv_idxs are used.\n",
    "        suffix: suffix to add to image names in CSV file (sometimes CSV only contains the file name without file\n",
    "                extension e.g. '.jpg' - in which case, you can set suffix as '.jpg')\n",
    "        test_name: a name of the folder which contains test images.\n",
    "        skip_header: skip the first row of the CSV file.\n",
    "        num_workers: number of workers\n",
    "\n",
    "    Returns:\n",
    "        ImageClassifierData\n",
    "    \"\"\"\n",
    "    fnames,y,idx2class = csv_source_multi_class(folder, csv_fname, suffix)\n",
    "\n",
    "    val_idxs = get_cv_idxs(len(fnames)) if val_idxs is None else val_idxs\n",
    "    ((val_fnames,trn_fnames),(val_y,trn_y)) = split_by_idx(val_idxs, np.array(fnames), y)\n",
    "\n",
    "    test_fnames = read_dir(path, test_name) if test_name else None\n",
    "    \n",
    "    f = FilesIndexArrayRegressionDataset\n",
    "    datasets = cls.get_ds(f, (trn_fnames,trn_y), (val_fnames,val_y), tfms,\n",
    "                           path=path, test=test_fnames)\n",
    "    return cls(path, datasets, bs, num_workers, classes=list(idx2class.values()))\n",
    "\n",
    "ImageClassifierData.from_multiclass_csv = from_multiclass_csv"
   ]
  },
  {
   "cell_type": "markdown",
   "metadata": {},
   "source": [
    "# Set up learner"
   ]
  },
  {
   "cell_type": "code",
   "execution_count": 4,
   "metadata": {},
   "outputs": [],
   "source": [
    "train_label_csv = f'{PATH}/catalogs/train.csv'\n",
    "df = pd.read_csv(train_label_csv, index_col=0)\n",
    "\n",
    "n = len(df)\n",
    "val_idxs = get_cv_idxs(n)\n"
   ]
  },
  {
   "cell_type": "code",
   "execution_count": 5,
   "metadata": {},
   "outputs": [],
   "source": [
    "def get_data(arch, sz, bs, val_idxs=val_idxs):\n",
    "    tfms = tfms_from_model(arch, sz, aug_tfms=transforms_top_down, max_zoom=1.1)\n",
    "    return ImageClassifierData.from_multiclass_csv(PATH, 'train', train_label_csv, tfms=tfms,\n",
    "                    suffix='.jpg', val_idxs=val_idxs, test_name='test', num_workers=16)\n",
    "\n",
    "def rmse(x, y):\n",
    "    return torch.sqrt(F.mse_loss(x,y))"
   ]
  },
  {
   "cell_type": "code",
   "execution_count": 6,
   "metadata": {},
   "outputs": [],
   "source": [
    "# train-val permutation\n",
    "all_idxs = np.random.permutation(range(n))\n",
    "\n",
    "# params\n",
    "sz = 128\n",
    "bs = 128\n",
    "arch = vgg16"
   ]
  },
  {
   "cell_type": "code",
   "execution_count": 7,
   "metadata": {},
   "outputs": [],
   "source": [
    "data = get_data(arch, sz, bs, val_idxs=val_idxs)\n",
    "\n",
    "# No pretrain\n",
    "learn = ConvLearner.pretrained(arch, data, pretrained=False, crit=rmse)"
   ]
  },
  {
   "cell_type": "code",
   "execution_count": 8,
   "metadata": {
    "scrolled": false
   },
   "outputs": [
    {
     "data": {
      "application/vnd.jupyter.widget-view+json": {
       "model_id": "a7ae3b99ba064611a55274c2d330bf16",
       "version_major": 2,
       "version_minor": 0
      },
      "text/plain": [
       "HBox(children=(IntProgress(value=0, description='Epoch', max=1, style=ProgressStyle(description_width='initial…"
      ]
     },
     "metadata": {},
     "output_type": "display_data"
    },
    {
     "name": "stdout",
     "output_type": "stream",
     "text": [
      " 82%|████████▏ | 986/1200 [01:41<00:23,  8.99it/s, loss=1.81] "
     ]
    },
    {
     "data": {
      "image/png": "[encoded data removed]",
      "text/plain": [
       "<Figure size 432x288 with 1 Axes>"
      ]
     },
     "metadata": {
      "needs_background": "light"
     },
     "output_type": "display_data"
    }
   ],
   "source": [
    "learn.lr_find()\n",
    "learn.sched.plot()"
   ]
  },
  {
   "cell_type": "markdown",
   "metadata": {},
   "source": [
    "## One-cycle"
   ]
  },
  {
   "cell_type": "markdown",
   "metadata": {},
   "source": [
    "Make sure you run `!pip intall numpy==1.15.1` if something breaks here..."
   ]
  },
  {
   "cell_type": "code",
   "execution_count": 8,
   "metadata": {
    "scrolled": false
   },
   "outputs": [
    {
     "data": {
      "application/vnd.jupyter.widget-view+json": {
       "model_id": "dd7ba81dd55f425186d16c1c639a00b6",
       "version_major": 2,
       "version_minor": 0
      },
      "text/plain": [
       "HBox(children=(IntProgress(value=0, description='Epoch', max=90, style=ProgressStyle(description_width='initia…"
      ]
     },
     "metadata": {},
     "output_type": "display_data"
    },
    {
     "name": "stdout",
     "output_type": "stream",
     "text": [
      "epoch      trn_loss   val_loss                                 \n",
      "    0      0.503332   0.21138   \n",
      "    1      0.33907    0.182271                                 \n",
      "    2      0.260167   0.164482                                 \n",
      "    3      0.228838   0.163358                                 \n",
      "    4      0.203962   0.146571                                 \n",
      "    5      0.202251   0.147005                                 \n",
      "    6      0.204551   0.146027                                 \n",
      "    7      0.196276   0.152294                                 \n",
      "    8      0.201578   0.153198                                 \n",
      "    9      0.186648   0.148746                                 \n",
      "    10     0.181203   0.14245                                  \n",
      "    11     0.175596   0.145268                                 \n",
      "    12     0.180266   0.139552                                 \n",
      "    13     0.167187   0.150859                                 \n",
      "    14     0.166714   0.137208                                 \n",
      "    15     0.1656     0.140254                                 \n",
      "    16     0.165278   0.137293                                 \n",
      "    17     0.158296   0.136247                                 \n",
      "    18     0.156697   0.135341                                 \n",
      "    19     0.15277    0.128673                                 \n",
      "    20     0.153861   0.137367                                 \n",
      "    21     0.149677   0.127505                                 \n",
      "    22     0.144351   0.12853                                  \n",
      "    23     0.145263   0.127443                                 \n",
      "    24     0.141601   0.127133                                 \n",
      "    25     0.138921   0.127774                                 \n",
      "    26     0.13714    0.125506                                 \n",
      "    27     0.138156   0.121765                                 \n",
      "    28     0.137695   0.123995                                 \n",
      "    29     0.139106   0.122924                                 \n",
      "    30     0.136449   0.123093                                 \n",
      "    31     0.136849   0.122817                                 \n",
      "    32     0.134886   0.123329                                 \n",
      "    33     0.133643   0.122909                                 \n",
      "    34     0.133343   0.121206                                 \n",
      "    35     0.136604   0.124167                                 \n",
      "    36     0.132623   0.12136                                  \n",
      "    37     0.132683   0.121246                                 \n",
      "    38     0.134905   0.125176                                 \n",
      "    39     0.134955   0.121309                                 \n",
      "    40     0.132299   0.12321                                  \n",
      "    41     0.131914   0.119992                                 \n",
      "    42     0.13064    0.126431                                 \n",
      "    43     0.13345    0.119529                                 \n",
      "    44     0.134606   0.119343                                 \n",
      "    45     0.130478   0.120567                                 \n",
      "    46     0.132831   0.120518                                 \n",
      "    47     0.130066   0.124621                                 \n",
      "    48     0.130453   0.12098                                  \n",
      "    49     0.130682   0.12067                                  \n",
      "    50     0.131357   0.120782                                 \n",
      "    51     0.134436   0.120633                                 \n",
      "    52     0.133395   0.118501                                 \n",
      "    53     0.128668   0.118339                                 \n",
      "    54     0.129769   0.119748                                 \n",
      "    55     0.131473   0.118818                                 \n",
      "    56     0.1319     0.121589                                 \n",
      "    57     0.130476   0.121582                                 \n",
      "    58     0.13424    0.1187                                   \n",
      "    59     0.129505   0.116866                                 \n",
      "    60     0.126764   0.119228                                 \n",
      "    61     0.132618   0.119265                                 \n",
      "    62     0.131206   0.117936                                 \n",
      "    63     0.130887   0.12022                                  \n",
      "    64     0.131066   0.122441                                 \n",
      "    65     0.127826   0.119412                                 \n",
      "    66     0.13133    0.117333                                 \n",
      "    67     0.13023    0.117333                                 \n",
      "    68     0.132293   0.118309                                 \n",
      "    69     0.131073   0.118222                                 \n",
      "    70     0.130219   0.118229                                 \n",
      "    71     0.129412   0.119021                                 \n",
      "    72     0.130784   0.121909                                 \n",
      "    73     0.127335   0.118769                                 \n",
      "    74     0.131164   0.121213                                 \n",
      "    75     0.133277   0.117211                                 \n",
      "    76     0.130352   0.119358                                 \n",
      "    77     0.130955   0.117174                                 \n",
      "    78     0.129178   0.116905                                 \n",
      "    79     0.128722   0.117493                                 \n",
      "    80     0.127526   0.117309                                 \n",
      "    81     0.131409   0.116795                                 \n",
      "    82     0.127856   0.117458                                 \n",
      "    83     0.131356   0.117604                                 \n",
      "    84     0.130457   0.117619                                 \n",
      "    85     0.126549   0.116832                                 \n",
      "    86     0.127698   0.118647                                 \n",
      "    87     0.129168   0.117813                                 \n",
      "    88     0.128291   0.118288                                 \n",
      "    89     0.128367   0.117153                                 \n",
      "\n"
     ]
    },
    {
     "data": {
      "text/plain": [
       "[array([0.11715])]"
      ]
     },
     "execution_count": 8,
     "metadata": {},
     "output_type": "execute_result"
    }
   ],
   "source": [
    "learn.fit([1e-3, 3e-3, 1e-2], 1, cycle_len=90, use_clr_beta=(10, 15, 0.95, 0.85), wds=2e-5)"
   ]
  },
  {
   "cell_type": "code",
   "execution_count": 12,
   "metadata": {},
   "outputs": [
    {
     "data": {
      "image/png": "[encoded data removed]",
      "text/plain": [
       "<Figure size 432x288 with 1 Axes>"
      ]
     },
     "metadata": {
      "needs_background": "light"
     },
     "output_type": "display_data"
    }
   ],
   "source": [
    "learn.sched.plot_loss(n_skip=30000)"
   ]
  },
  {
   "cell_type": "code",
   "execution_count": 10,
   "metadata": {},
   "outputs": [],
   "source": [
    "learn.save(f'vgg16-randinit_2-fastai-v0.7')"
   ]
  },
  {
   "cell_type": "code",
   "execution_count": null,
   "metadata": {},
   "outputs": [],
   "source": []
  }
 ],
 "metadata": {
  "kernelspec": {
   "display_name": "Python [conda env:fastai-v0.7]",
   "language": "python",
   "name": "conda-env-fastai-v0.7-py"
  },
  "language_info": {
   "codemirror_mode": {
    "name": "ipython",
    "version": 3
   },
   "file_extension": ".py",
   "mimetype": "text/x-python",
   "name": "python",
   "nbconvert_exporter": "python",
   "pygments_lexer": "ipython3",
   "version": "3.6.8"
  }
 },
 "nbformat": 4,
 "nbformat_minor": 2
}
