{
 "cells": [
  {
   "cell_type": "markdown",
   "metadata": {},
   "source": [
    "# Overview\n",
    "\n",
    "Here we present the results using our standard training regiment, which looks like:\n",
    "\n",
    "```python\n",
    "lr = 1e-1\n",
    "learn.fit(lr, 2)\n",
    "\n",
    "lrs = [1e-2, 3e-2, 1e-1]\n",
    "learn.unfreeze()\n",
    "learn.fit(lrs, 1)\n",
    "learn.fit(lrs, 3, cycle_len=1, cycle_mult=2)\n",
    "```\n",
    "\n",
    "Update (post-submission): I noticed a bug in here which meant I was *not* using layered learning rates. This has now been fixed."
   ]
  },
  {
   "cell_type": "markdown",
   "metadata": {},
   "source": [
    "# Imports and other necessary functions"
   ]
  },
  {
   "cell_type": "code",
   "execution_count": 1,
   "metadata": {},
   "outputs": [],
   "source": [
    "%reload_ext autoreload\n",
    "%autoreload 2\n",
    "%matplotlib inline\n",
    "\n",
    "from fastai.imports import *\n",
    "from fastai.transforms import *\n",
    "from fastai.conv_learner import *\n",
    "from fastai.model import *\n",
    "from fastai.dataset import *\n",
    "from fastai.sgdr import *\n",
    "from fastai.plots import *\n",
    "\n",
    "import torch \n",
    "\n",
    "from IPython.display import display"
   ]
  },
  {
   "cell_type": "code",
   "execution_count": 2,
   "metadata": {},
   "outputs": [],
   "source": [
    "torch.cuda.set_device(2)"
   ]
  },
  {
   "cell_type": "code",
   "execution_count": 3,
   "metadata": {},
   "outputs": [],
   "source": [
    "PATH = os.path.abspath('..')"
   ]
  },
  {
   "cell_type": "code",
   "execution_count": 4,
   "metadata": {},
   "outputs": [],
   "source": [
    "def parse_csv_multi_class_values(path_to_csv):\n",
    "    \"\"\"Parse filenames and values for classes from a CSV file.\n",
    "\n",
    "    This method expects that the csv file at path :fn: has one column for filenames,\n",
    "    while all the other columns represent classes.\n",
    "    Expects a header with class names\n",
    "\n",
    "    Arguments:\n",
    "        path_to_csv: Path to a CSV file.\n",
    "\n",
    "    Returns:\n",
    "        a three-tuple of:            \n",
    "            a list of filenames\n",
    "            a list of values in the same order\n",
    "            a dictionary of classes by classIndex           \n",
    "    \"\"\"\n",
    "    with open(path_to_csv) as fileobj:\n",
    "        reader = csv.reader(fileobj)\n",
    "        header = next(reader)\n",
    "        csv_lines = [l for l in reader]\n",
    "\n",
    "    fnames = [fname for fname, *_ in csv_lines]\n",
    "    classes = header[1:]\n",
    "    values = [vals for _, *vals in csv_lines]\n",
    "    idx2class = {i:c for i, c in enumerate(classes)}\n",
    "   \n",
    "    return fnames, values, idx2class\n",
    "\n",
    "def csv_source_multi_class(folder, csv_file, suffix=''):\n",
    "    fnames, values, idx2class = parse_csv_multi_class_values(csv_file)\n",
    "    full_names = [os.path.join(folder,fn+suffix) for fn in fnames]\n",
    "   \n",
    "    val_arr = np.array(values).astype(np.float32)\n",
    "    \n",
    "    return full_names, val_arr, idx2class\n",
    "\n",
    "@classmethod\n",
    "def from_multiclass_csv(cls, path, folder, csv_fname, bs=64, tfms=(None,None),\n",
    "           val_idxs=None, suffix='', test_name=None, num_workers=8):\n",
    "    \"\"\" Read in images and their labels given as a CSV file.\n",
    "--\n",
    "    This method should be used when training image labels are given in an CSV file as opposed to\n",
    "    sub-directories with label names.\n",
    "\n",
    "    Arguments:\n",
    "        path: a root path of the data (used for storing trained models, precomputed values, etc)\n",
    "        folder: a name of the folder in which training images are contained.\n",
    "        csv_fname: a name of the CSV file which contains target labels.\n",
    "        bs: batch size\n",
    "        tfms: transformations (for data augmentations). e.g. output of `tfms_from_model`\n",
    "        val_idxs: index of images to be used for validation. e.g. output of `get_cv_idxs`.\n",
    "            If None, default arguments to get_cv_idxs are used.\n",
    "        suffix: suffix to add to image names in CSV file (sometimes CSV only contains the file name without file\n",
    "                extension e.g. '.jpg' - in which case, you can set suffix as '.jpg')\n",
    "        test_name: a name of the folder which contains test images.\n",
    "        skip_header: skip the first row of the CSV file.\n",
    "        num_workers: number of workers\n",
    "\n",
    "    Returns:\n",
    "        ImageClassifierData\n",
    "    \"\"\"\n",
    "    fnames,y,idx2class = csv_source_multi_class(folder, csv_fname, suffix)\n",
    "\n",
    "    val_idxs = get_cv_idxs(len(fnames)) if val_idxs is None else val_idxs\n",
    "    ((val_fnames,trn_fnames),(val_y,trn_y)) = split_by_idx(val_idxs, np.array(fnames), y)\n",
    "\n",
    "    test_fnames = read_dir(path, test_name) if test_name else None\n",
    "    \n",
    "    f = FilesIndexArrayRegressionDataset\n",
    "    datasets = cls.get_ds(f, (trn_fnames,trn_y), (val_fnames,val_y), tfms,\n",
    "                           path=path, test=test_fnames)\n",
    "    return cls(path, datasets, bs, num_workers, classes=list(idx2class.values()))\n",
    "\n",
    "ImageClassifierData.from_multiclass_csv = from_multiclass_csv"
   ]
  },
  {
   "cell_type": "markdown",
   "metadata": {},
   "source": [
    "# Training [O/H] 50th percentile with $gri$ images only using single regiment"
   ]
  },
  {
   "cell_type": "code",
   "execution_count": 5,
   "metadata": {},
   "outputs": [],
   "source": [
    "train_label_csv = f'{PATH}/catalogs/train-oh_p50.csv'\n",
    "df = pd.read_csv(train_label_csv, index_col=0)\n",
    "\n",
    "n = len(df)\n",
    "val_idxs = get_cv_idxs(n)\n"
   ]
  },
  {
   "cell_type": "code",
   "execution_count": 6,
   "metadata": {},
   "outputs": [],
   "source": [
    "def get_data(arch, sz, bs, val_idxs=val_idxs):\n",
    "    tfms = tfms_from_model(arch, sz, aug_tfms=transforms_top_down, max_zoom=1.1)\n",
    "    return ImageClassifierData.from_multiclass_csv(PATH, 'train', train_label_csv, tfms=tfms,\n",
    "                    suffix='.jpg', val_idxs=val_idxs, test_name='test', num_workers=16)\n",
    "\n",
    "def rmse(x, y):\n",
    "    return torch.sqrt(F.mse_loss(x,y))"
   ]
  },
  {
   "cell_type": "code",
   "execution_count": 7,
   "metadata": {},
   "outputs": [],
   "source": [
    "# train-val permutation\n",
    "all_idxs = np.random.permutation(range(n))\n",
    "\n",
    "# params\n",
    "sz = 128\n",
    "bs = 128\n",
    "arch = resnet34"
   ]
  },
  {
   "cell_type": "code",
   "execution_count": 9,
   "metadata": {},
   "outputs": [],
   "source": [
    "data = get_data(arch, sz, bs, val_idxs=val_idxs)\n",
    "\n",
    "learn = ConvLearner.pretrained(arch, data)\n",
    "metrics = [rmse]\n",
    "learn.crit = rmse"
   ]
  },
  {
   "cell_type": "code",
   "execution_count": 10,
   "metadata": {},
   "outputs": [
    {
     "data": {
      "application/vnd.jupyter.widget-view+json": {
       "model_id": "66eceaca14604eeeb14d7e0c4147a249",
       "version_major": 2,
       "version_minor": 0
      },
      "text/plain": [
       "HBox(children=(IntProgress(value=0, description='Epoch', max=2), HTML(value='')))"
      ]
     },
     "metadata": {},
     "output_type": "display_data"
    },
    {
     "name": "stdout",
     "output_type": "stream",
     "text": [
      "epoch      trn_loss   val_loss                                 \n",
      "    0      0.16101    0.143912  \n",
      "    1      0.153201   0.140712                                 \n",
      "\n"
     ]
    },
    {
     "data": {
      "application/vnd.jupyter.widget-view+json": {
       "model_id": "fa4a2d5ba1d64249ab39371d1abe5f8a",
       "version_major": 2,
       "version_minor": 0
      },
      "text/plain": [
       "HBox(children=(IntProgress(value=0, description='Epoch', max=1), HTML(value='')))"
      ]
     },
     "metadata": {},
     "output_type": "display_data"
    },
    {
     "name": "stdout",
     "output_type": "stream",
     "text": [
      "epoch      trn_loss   val_loss                                 \n",
      "    0      0.124944   0.114628  \n",
      "\n"
     ]
    },
    {
     "data": {
      "application/vnd.jupyter.widget-view+json": {
       "model_id": "9df45030465b46639ec19d413598b23a",
       "version_major": 2,
       "version_minor": 0
      },
      "text/plain": [
       "HBox(children=(IntProgress(value=0, description='Epoch', max=7), HTML(value='')))"
      ]
     },
     "metadata": {},
     "output_type": "display_data"
    },
    {
     "name": "stdout",
     "output_type": "stream",
     "text": [
      "epoch      trn_loss   val_loss                                  \n",
      "    0      0.094653   0.087956  \n",
      "    1      0.1084     0.089139                                 \n",
      "    2      0.09156    0.085841                                  \n",
      "    3      0.112245   0.117784                                 \n",
      "    4      0.11182    0.096789                                  \n",
      "    5      0.093469   0.089464                                  \n",
      "    6      0.088877   0.084428                                  \n",
      "\n"
     ]
    },
    {
     "data": {
      "image/png": "[encoded data removed]",
      "text/plain": [
       "<Figure size 432x288 with 1 Axes>"
      ]
     },
     "metadata": {},
     "output_type": "display_data"
    }
   ],
   "source": [
    "lr = 1e-1\n",
    "learn.fit(lr, 2)\n",
    "\n",
    "lrs = [1e-2, 3e-2, 1e-1]\n",
    "learn.unfreeze()\n",
    "\n",
    "learn.fit(lrs, 1)\n",
    "learn.fit(lrs, 3, cycle_len=1, cycle_mult=2)\n",
    "\n",
    "learn.sched.plot_loss()"
   ]
  },
  {
   "cell_type": "markdown",
   "metadata": {},
   "source": [
    "This took ~30 minutes"
   ]
  },
  {
   "cell_type": "code",
   "execution_count": 11,
   "metadata": {},
   "outputs": [],
   "source": [
    "#learn.save(f'resnet34-single_sz{sz}-bs{bs}-postsubmission')\n",
    "learn.load(f'resnet34-single_sz{sz}-bs{bs}-postsubmission')"
   ]
  },
  {
   "cell_type": "markdown",
   "metadata": {},
   "source": [
    "## Check sizes of training/validation data sets"
   ]
  },
  {
   "cell_type": "code",
   "execution_count": 12,
   "metadata": {},
   "outputs": [
    {
     "data": {
      "text/plain": [
       "76772"
      ]
     },
     "metadata": {},
     "output_type": "display_data"
    },
    {
     "data": {
      "text/plain": [
       "76771"
      ]
     },
     "metadata": {},
     "output_type": "display_data"
    }
   ],
   "source": [
    "display(learn.data.trn_y.size)\n",
    "display(len(set(learn.data.trn_ds.fnames)))"
   ]
  },
  {
   "cell_type": "code",
   "execution_count": 13,
   "metadata": {},
   "outputs": [
    {
     "data": {
      "text/plain": [
       "19192"
      ]
     },
     "metadata": {},
     "output_type": "display_data"
    },
    {
     "data": {
      "text/plain": [
       "19192"
      ]
     },
     "metadata": {},
     "output_type": "display_data"
    }
   ],
   "source": [
    "display(learn.data.val_y.size)\n",
    "display(len(set(learn.data.val_ds.fnames)))"
   ]
  },
  {
   "cell_type": "code",
   "execution_count": 14,
   "metadata": {},
   "outputs": [
    {
     "data": {
      "text/plain": [
       "20466"
      ]
     },
     "metadata": {},
     "output_type": "display_data"
    },
    {
     "data": {
      "text/plain": [
       "20466"
      ]
     },
     "metadata": {},
     "output_type": "display_data"
    }
   ],
   "source": [
    "display(learn.data.test_ds.y.size)\n",
    "display(len(set(learn.data.test_ds.fnames)))"
   ]
  },
  {
   "cell_type": "markdown",
   "metadata": {},
   "source": [
    "# Evaluate predictions"
   ]
  },
  {
   "cell_type": "markdown",
   "metadata": {},
   "source": [
    "## Test set with TTA"
   ]
  },
  {
   "cell_type": "code",
   "execution_count": 16,
   "metadata": {},
   "outputs": [
    {
     "name": "stdout",
     "output_type": "stream",
     "text": [
      "                                             \r"
     ]
    }
   ],
   "source": [
    "preds, _ = learn.TTA(is_test=True)\n",
    "p_test = preds.mean(axis=0)"
   ]
  },
  {
   "cell_type": "code",
   "execution_count": 17,
   "metadata": {},
   "outputs": [],
   "source": [
    "test_names = np.array([os.path.split(fname)[1][:-4] for fname in learn.data.test_ds.fnames], dtype=np.int64)\n",
    "\n",
    "df_test = pd.read_csv(f'{PATH}/catalogs/test-oh_p50.csv', index_col=0)\n",
    "y_test = df_test.loc[test_names].values"
   ]
  },
  {
   "cell_type": "markdown",
   "metadata": {},
   "source": [
    "Save these out by calling\n",
    "```python\n",
    "predicted = df_test.loc[test_names].copy()\n",
    "predicted['prediction'] = p_test\n",
    "\n",
    "predicted.to_csv(f'{PATH}/catalogs/predictions-oh_p50.csv')\n",
    "```"
   ]
  },
  {
   "cell_type": "code",
   "execution_count": 18,
   "metadata": {},
   "outputs": [],
   "source": [
    "predicted = df_test.loc[test_names].copy()\n",
    "predicted['prediction'] = p_test\n",
    "\n",
    "predictions_csv = f'{PATH}/catalogs/post-submission/predictions-oh_p50.csv'\n",
    "\n",
    "predicted.to_csv(predictions_csv)"
   ]
  },
  {
   "cell_type": "code",
   "execution_count": 19,
   "metadata": {},
   "outputs": [
    {
     "data": {
      "image/png": "[encoded data removed]",
      "text/plain": [
       "<Figure size 432x288 with 1 Axes>"
      ]
     },
     "metadata": {},
     "output_type": "display_data"
    }
   ],
   "source": [
    "rms_errors = np.sqrt(np.mean((p_test - y_test)**2))\n",
    "\n",
    "plt.hist(p_test[:,0]-y_test[:,0], bins=200, histtype='step', range=[-0.5, 0.5]);\n",
    "plt.text(0.05, 500, f'12 + log(O/H) error: {rms_errors:.4f}')\n",
    "plt.xlim(-0.5, 0.5)\n",
    "plt.axvline(0, c='k')\n",
    "plt.yscale('log')\n",
    "plt.xlabel('rms error');"
   ]
  },
  {
   "cell_type": "markdown",
   "metadata": {},
   "source": [
    "## Plot binned predictions"
   ]
  },
  {
   "cell_type": "code",
   "execution_count": 21,
   "metadata": {},
   "outputs": [],
   "source": [
    "y_bins = np.linspace(8.3, 9.2, 10)\n",
    "p_means = [np.mean(p_test.flat[(y_test[:, 0] > y - 0.05) & (y_test[:, 0] < y + 0.05)]) for y in y_bins]\n",
    "p_stds = [np.std(p_test.flat[(y_test[:, 0] > y - 0.05) & (y_test[:, 0] < y + 0.05)]) for y in y_bins]"
   ]
  },
  {
   "cell_type": "code",
   "execution_count": 22,
   "metadata": {},
   "outputs": [
    {
     "data": {
      "image/png": "[encoded data removed]",
      "text/plain": [
       "<Figure size 720x576 with 2 Axes>"
      ]
     },
     "metadata": {},
     "output_type": "display_data"
    }
   ],
   "source": [
    "fig = plt.figure(figsize=(10, 8))\n",
    "ax = fig.add_subplot(111)\n",
    "*_, im = ax.hist2d(y_test[:, 0], p_test[:, 0], bins=100, range=[[8.2, 9.3], [8.2, 9.3]], cmap='cubehelix_r', norm=matplotlib.colors.LogNorm(vmin=1, vmax=100), alpha=0.7)\n",
    "ax.plot([8.2, 9.3], [8.2, 9.3], c='k', ls='--', lw=3)\n",
    "ax.set_aspect(aspect='equal')\n",
    "\n",
    "# bins\n",
    "ax.errorbar(y_bins, p_means, yerr=p_stds, c='C3', ls='', lw=3, capsize=8, capthick=3)\n",
    "\n",
    "ax.text(8.25, 9.15, f'Resnet-34 ({sz}-pixel) \\n' f'RMSE={rms_errors:.4f}', fontsize=16)\n",
    "\n",
    "ax.set_xlabel('SDSS [12 + log(O/H)]', fontsize=12)\n",
    "ax.set_ylabel('Predicted [12 + log(O/H)]', fontsize=12)\n",
    "cb = fig.colorbar(im);\n",
    "cb.set_label('Number', fontsize=12)\n",
    "\n",
    "#fig.savefig(f'{PATH}/results/single-sz{sz}_pred-vs-SDSS.pdf')"
   ]
  },
  {
   "cell_type": "markdown",
   "metadata": {},
   "source": [
    "## Plot marginal RMSE"
   ]
  },
  {
   "cell_type": "code",
   "execution_count": 23,
   "metadata": {},
   "outputs": [],
   "source": [
    "def plot_comparison_with_marginals(y_test, p_test, rms_errors=rms_errors):\n",
    "    \n",
    "    gs = matplotlib.gridspec.GridSpec(20, 20)\n",
    "    \n",
    "    fig = plt.figure(figsize=(8, 8))\n",
    "    \n",
    "    ax = fig.add_subplot(gs[4:, 2:18])\n",
    "    \n",
    "    # plot main histogram\n",
    "    *_, im = ax.hist2d(y_test[:, 0], p_test[:, 0], bins=100, range=[[8.2, 9.3], [8.2, 9.3]], cmap='cubehelix_r', norm=matplotlib.colors.LogNorm(vmin=1, vmax=100), alpha=1)\n",
    "    ax.plot([8.2, 9.3], [8.2, 9.3], c='k', ls='--', lw=3)\n",
    "    \n",
    "    ax.set_xlabel('SDSS [12 + log(O/H)]', fontsize=14)\n",
    "    ax.set_ylabel('Predicted [12 + log(O/H)]', fontsize=14)\n",
    "    \n",
    "    ax.text(8.25, 9.15, f'Resnet-34 \\n' f'{sz} $\\\\times$ {sz}', fontsize=16)\n",
    "    \n",
    "    # add colorbar\n",
    "    ax_cb = fig.add_subplot(gs[4:, 19:])\n",
    "    cb = fig.colorbar(im, cax=ax_cb);\n",
    "    cb.set_label('Number', fontsize=14)\n",
    "    \n",
    "    \n",
    "    # add top margin plot\n",
    "    ax_marg = fig.add_subplot(gs[:3, 2:18])\n",
    "\n",
    "    y_bins = np.linspace(8.3, 9.2, 10)\n",
    "    rmse_bins = [np.sqrt(np.mean(((p_test - y_test)[(y_test[:, 0] > y - 0.05) & (y_test[:, 0] < y + 0.05)])**2)) for y in y_bins]\n",
    "    ax_marg.plot(y_bins, rmse_bins, marker='o', c='C0', ls='', markersize=10)\n",
    "    \n",
    "    ax_marg.set_ylabel('RMSE', fontsize=14)\n",
    "    ax_marg.set_ylim(0, 0.3)\n",
    "    ax_marg.set_xlim(8.2, 9.3)\n",
    "    \n",
    "    # include mean RMSE  \n",
    "    ax_marg.axhline(rms_errors, ls='-', c='k')\n",
    "    ax_marg.text(8.9, 0.15, f'<RMSE>={rms_errors:.4f}', fontsize=14)\n",
    "\n",
    "    #fig.savefig(f'{PATH}/results/single-sz{sz}_pred-vs-SDSS_with-marginals.pdf')\n",
    "    \n"
   ]
  },
  {
   "cell_type": "code",
   "execution_count": 24,
   "metadata": {},
   "outputs": [
    {
     "data": {
      "image/png": "[encoded data removed]",
      "text/plain": [
       "<Figure size 576x576 with 3 Axes>"
      ]
     },
     "metadata": {},
     "output_type": "display_data"
    }
   ],
   "source": [
    "plot_comparison_with_marginals(y_test, p_test, rms_errors=rms_errors)"
   ]
  },
  {
   "cell_type": "markdown",
   "metadata": {},
   "source": [
    "## marginal NMAD"
   ]
  },
  {
   "cell_type": "code",
   "execution_count": 25,
   "metadata": {},
   "outputs": [],
   "source": [
    "def nmad(z, const=1.4826):\n",
    "    \"\"\"Returns the Gaussian sigma according to MAD\"\"\"\n",
    "    return const*np.median(np.abs(z - np.median(z)))\n",
    "\n",
    "def rmse_np(x, y):\n",
    "    return np.sqrt(np.mean((y - x)**2))"
   ]
  },
  {
   "cell_type": "code",
   "execution_count": 26,
   "metadata": {},
   "outputs": [],
   "source": [
    "def plot_comparison_with_marginals(y_test, p_test):\n",
    "    \n",
    "    gs = matplotlib.gridspec.GridSpec(20, 20)\n",
    "    \n",
    "    fig = plt.figure(figsize=(8, 8))\n",
    "    \n",
    "    ax = fig.add_subplot(gs[4:, 2:18])\n",
    "    \n",
    "    # plot main histogram\n",
    "    *_, im = ax.hist2d(y_test[:, 0], p_test[:, 0], bins=100, range=[[8.2, 9.3], [8.2, 9.3]], cmap='cubehelix_r', norm=matplotlib.colors.LogNorm(vmin=1, vmax=100), alpha=1)\n",
    "    ax.plot([8.2, 9.3], [8.2, 9.3], c='k', ls='--', lw=3)\n",
    "    \n",
    "    ax.set_xlabel('SDSS [12 + log(O/H)]', fontsize=14)\n",
    "    ax.set_ylabel('Predicted [12 + log(O/H)]', fontsize=14)\n",
    "    \n",
    "    ax.text(8.25, 9.15, f'Resnet-34 \\n' f'{sz} $\\\\times$ {sz}', fontsize=16)\n",
    "    \n",
    "    # add colorbar\n",
    "    ax_cb = fig.add_subplot(gs[4:, 19:])\n",
    "    cb = fig.colorbar(im, cax=ax_cb);\n",
    "    cb.set_label('Number', fontsize=14)\n",
    "    \n",
    "    \n",
    "    # add top margin plot\n",
    "    ax_marg = fig.add_subplot(gs[:4, 2:18])\n",
    "\n",
    "    y_bins = np.linspace(8.3, 9.2, 10)\n",
    "    rmse_bins = [np.sqrt(np.mean(((p_test - y_test)[(y_test[:, 0] > y - 0.05) & (y_test[:, 0] < y + 0.05)])**2)) for y in y_bins]\n",
    "    num_in_bins = np.sum([(y_test[:, 0] > y - 0.05) & (y_test[:, 0] < y + 0.05) for y in y_bins], axis=1)\n",
    "    rmse_error = rmse_np(p_test, y_test)\n",
    "    ax_marg.scatter(y_bins, rmse_bins, marker='o', c='C0', s=num_in_bins/30, label=f'<RMSE>={rmse_error:.4f}')\n",
    "\n",
    "    nmad_bins = [np.sqrt(nmad(((p_test - y_test)[(y_test[:, 0] > y - 0.05) & (y_test[:, 0] < y + 0.05)])**2)) for y in y_bins]\n",
    "    nmad_error = nmad(p_test - y_test)\n",
    "    ax_marg.scatter(y_bins, nmad_bins, marker='o', c='C1', s=num_in_bins/30, label=f'<NMAD>={nmad_error:.4f}')\n",
    "    \n",
    "    ax_marg.set_ylabel('Residual\\nscatter', fontsize=14)\n",
    "    ax_marg.legend(fontsize=12, framealpha=0.0, frameon=False)\n",
    "    ax_marg.set_ylim(0, 0.3)\n",
    "    ax_marg.set_xlim(8.2, 9.3)\n",
    "    ax_marg.set_xticklabels([])\n",
    "    \n",
    "    # include mean RMSE  \n",
    "    ax_marg.axhline(rmse_error, ls='-', c='C0')\n",
    "    ax_marg.axhline(nmad_error, ls='-', c='C1')\n",
    "    \n",
    "    #fig.savefig(f'{PATH}/results/single-sz{sz}_pred-vs-SDSS_with-marginals.pdf', dpi=300)\n",
    "    \n"
   ]
  },
  {
   "cell_type": "code",
   "execution_count": 27,
   "metadata": {
    "scrolled": false
   },
   "outputs": [
    {
     "data": {
      "image/png": "[encoded data removed]",
      "text/plain": [
       "<Figure size 576x576 with 3 Axes>"
      ]
     },
     "metadata": {},
     "output_type": "display_data"
    }
   ],
   "source": [
    "plot_comparison_with_marginals(y_test, p_test)"
   ]
  },
  {
   "cell_type": "markdown",
   "metadata": {},
   "source": [
    "# 64 x 64 $gri$ imaging"
   ]
  },
  {
   "cell_type": "code",
   "execution_count": 28,
   "metadata": {},
   "outputs": [],
   "source": [
    "sz = 64\n",
    "bs = 128\n",
    "arch = resnet34"
   ]
  },
  {
   "cell_type": "code",
   "execution_count": 29,
   "metadata": {},
   "outputs": [],
   "source": [
    "val_idxs = get_cv_idxs(n)\n",
    "data = get_data(arch, sz, bs, val_idxs=val_idxs)\n",
    "\n",
    "learn = ConvLearner.pretrained(arch, data)\n",
    "metrics = [rmse]\n",
    "learn.crit = rmse\n",
    "    "
   ]
  },
  {
   "cell_type": "code",
   "execution_count": 30,
   "metadata": {},
   "outputs": [
    {
     "data": {
      "application/vnd.jupyter.widget-view+json": {
       "model_id": "ce3f20d16c8840dba43230dfc553c0a1",
       "version_major": 2,
       "version_minor": 0
      },
      "text/plain": [
       "HBox(children=(IntProgress(value=0, description='Epoch', max=2), HTML(value='')))"
      ]
     },
     "metadata": {},
     "output_type": "display_data"
    },
    {
     "name": "stdout",
     "output_type": "stream",
     "text": [
      "epoch      trn_loss   val_loss                                 \n",
      "    0      0.157833   0.147706  \n",
      "    1      0.153343   0.136377                                 \n",
      "\n"
     ]
    },
    {
     "data": {
      "application/vnd.jupyter.widget-view+json": {
       "model_id": "2b7889d0896b40188c55cf0381a69e40",
       "version_major": 2,
       "version_minor": 0
      },
      "text/plain": [
       "HBox(children=(IntProgress(value=0, description='Epoch', max=1), HTML(value='')))"
      ]
     },
     "metadata": {},
     "output_type": "display_data"
    },
    {
     "name": "stdout",
     "output_type": "stream",
     "text": [
      "epoch      trn_loss   val_loss                                 \n",
      "    0      0.115183   0.11215   \n",
      "\n"
     ]
    },
    {
     "data": {
      "application/vnd.jupyter.widget-view+json": {
       "model_id": "9a9651e3ddca424985de2e5ea15526a6",
       "version_major": 2,
       "version_minor": 0
      },
      "text/plain": [
       "HBox(children=(IntProgress(value=0, description='Epoch', max=7), HTML(value='')))"
      ]
     },
     "metadata": {},
     "output_type": "display_data"
    },
    {
     "name": "stdout",
     "output_type": "stream",
     "text": [
      "epoch      trn_loss   val_loss                                  \n",
      "    0      0.096627   0.089771  \n",
      "    1      0.107973   0.097445                                 \n",
      "    2      0.094832   0.089634                                  \n",
      "    3      0.122136   0.089165                                 \n",
      "    4      0.101248   0.09456                                  \n",
      "    5      0.095603   0.087105                                  \n",
      "    6      0.093538   0.087053                                  \n",
      "\n"
     ]
    },
    {
     "data": {
      "image/png": "[encoded data removed]",
      "text/plain": [
       "<Figure size 432x288 with 1 Axes>"
      ]
     },
     "metadata": {},
     "output_type": "display_data"
    }
   ],
   "source": [
    "lr = 1e-1\n",
    "learn.fit(lr, 2)\n",
    "\n",
    "lrs = [1e-2, 3e-2, 1e-1]\n",
    "learn.unfreeze()\n",
    "\n",
    "learn.fit(lrs, 1)\n",
    "learn.fit(lrs, 3, cycle_len=1, cycle_mult=2)\n",
    "\n",
    "learn.sched.plot_loss()"
   ]
  },
  {
   "cell_type": "code",
   "execution_count": 31,
   "metadata": {},
   "outputs": [],
   "source": [
    "#learn.save(f'resnet34-single_sz{sz}-bs{bs}-postsubmission')\n",
    "learn.load(f'resnet34-single_sz{sz}-bs{bs}-postsubmission')"
   ]
  },
  {
   "cell_type": "markdown",
   "metadata": {},
   "source": [
    "This took ~20 minutes"
   ]
  },
  {
   "cell_type": "code",
   "execution_count": 32,
   "metadata": {},
   "outputs": [
    {
     "name": "stdout",
     "output_type": "stream",
     "text": [
      "                                             \r"
     ]
    }
   ],
   "source": [
    "preds, _ = learn.TTA(is_test=True)\n",
    "p_test = preds.mean(axis=0)\n",
    "\n",
    "rms_errors = np.sqrt(np.mean((p_test - y_test)**2))"
   ]
  },
  {
   "cell_type": "markdown",
   "metadata": {},
   "source": [
    "Save out using\n",
    "```python\n",
    "predicted = df_test.loc[test_names].copy()\n",
    "predicted['prediction'] = p_test\n",
    "\n",
    "predicted.to_csv(f'{PATH}/catalogs/predictions_{sz}-oh_p50.csv')\n",
    "```"
   ]
  },
  {
   "cell_type": "code",
   "execution_count": 37,
   "metadata": {},
   "outputs": [
    {
     "data": {
      "image/png": "[encoded data removed]",
      "text/plain": [
       "<Figure size 576x576 with 3 Axes>"
      ]
     },
     "metadata": {},
     "output_type": "display_data"
    }
   ],
   "source": [
    "plot_comparison_with_marginals(y_test, p_test)"
   ]
  },
  {
   "cell_type": "markdown",
   "metadata": {},
   "source": [
    "# 32 x 32 $gri$ imaging"
   ]
  },
  {
   "cell_type": "code",
   "execution_count": 59,
   "metadata": {},
   "outputs": [],
   "source": [
    "sz = 32\n",
    "bs = 128\n",
    "arch = resnet34"
   ]
  },
  {
   "cell_type": "code",
   "execution_count": 60,
   "metadata": {},
   "outputs": [],
   "source": [
    "val_idxs = get_cv_idxs(n)\n",
    "data = get_data(arch, sz, bs, val_idxs=val_idxs)\n",
    "\n",
    "learn = ConvLearner.pretrained(arch, data)\n",
    "metrics = [rmse]\n",
    "learn.crit = rmse"
   ]
  },
  {
   "cell_type": "code",
   "execution_count": null,
   "metadata": {},
   "outputs": [
    {
     "data": {
      "application/vnd.jupyter.widget-view+json": {
       "model_id": "36ed0426beb6446c9c4a22200864c41e",
       "version_major": 2,
       "version_minor": 0
      },
      "text/plain": [
       "HBox(children=(IntProgress(value=0, description='Epoch', max=2), HTML(value='')))"
      ]
     },
     "metadata": {},
     "output_type": "display_data"
    },
    {
     "name": "stdout",
     "output_type": "stream",
     "text": [
      "100%|█████████▉| 1196/1200 [01:09<00:00, 17.23it/s, loss=0.154]"
     ]
    }
   ],
   "source": [
    "lr = 1e-1\n",
    "learn.fit(lr, 2)\n",
    "\n",
    "lrs = [1e-2, 3e-2, 1e-1]\n",
    "learn.unfreeze()\n",
    "learn.fit(lrs, 1)\n",
    "learn.fit(lrs, 3, cycle_len=1, cycle_mult=2)\n",
    "\n",
    "learn.sched.plot_loss()"
   ]
  },
  {
   "cell_type": "code",
   "execution_count": null,
   "metadata": {},
   "outputs": [],
   "source": [
    "#learn.save(f'resnet34-single_sz{sz}-bs{bs}-postsubmission')\n",
    "learn.load(f'resnet34-single_sz{sz}-bs{bs}-postsubmission')"
   ]
  },
  {
   "cell_type": "markdown",
   "metadata": {},
   "source": [
    "And that took ~15 minutes"
   ]
  },
  {
   "cell_type": "code",
   "execution_count": null,
   "metadata": {},
   "outputs": [],
   "source": [
    "preds, _ = learn.TTA(is_test=True)\n",
    "p_test = preds.mean(axis=0)\n",
    "\n",
    "rms_errors = np.sqrt(np.mean((p_test - y_test)**2))"
   ]
  },
  {
   "cell_type": "markdown",
   "metadata": {},
   "source": [
    "```\n",
    "predicted = df_test.loc[test_names].copy()\n",
    "predicted['prediction'] = p_test\n",
    "\n",
    "predicted.to_csv(f'{PATH}/catalogs/predictions_{sz}-oh_p50.csv')\n",
    "```"
   ]
  },
  {
   "cell_type": "code",
   "execution_count": null,
   "metadata": {},
   "outputs": [],
   "source": [
    "predicted = df_test.loc[test_names].copy()\n",
    "predicted['prediction'] = p_test\n",
    "\n",
    "predicted.to_csv(f'{PATH}/catalogs/post-submission/predictions_{sz}-oh_p50.csv')"
   ]
  },
  {
   "cell_type": "code",
   "execution_count": null,
   "metadata": {},
   "outputs": [],
   "source": [
    "plot_comparison_with_marginals(y_test, p_test)"
   ]
  },
  {
   "cell_type": "markdown",
   "metadata": {},
   "source": [
    "# 16 x 16 $gri$ imaging"
   ]
  },
  {
   "cell_type": "code",
   "execution_count": null,
   "metadata": {},
   "outputs": [],
   "source": [
    "sz = 16\n",
    "bs = 128\n",
    "arch = resnet34"
   ]
  },
  {
   "cell_type": "code",
   "execution_count": null,
   "metadata": {},
   "outputs": [],
   "source": [
    "val_idxs = get_cv_idxs(n)\n",
    "data = get_data(arch, sz, bs, val_idxs=val_idxs)\n",
    "\n",
    "learn = ConvLearner.pretrained(arch, data)\n",
    "metrics = [rmse]\n",
    "learn.crit = rmse"
   ]
  },
  {
   "cell_type": "code",
   "execution_count": null,
   "metadata": {},
   "outputs": [],
   "source": [
    "lr = 1e-1\n",
    "learn.fit(lr, 2)\n",
    "\n",
    "lrs = [1e-2, 3e-2, 1e-1]\n",
    "learn.unfreeze()\n",
    "learn.fit(lrs, 1)\n",
    "learn.fit(lrs, 3, cycle_len=1, cycle_mult=2)\n",
    "\n",
    "learn.sched.plot_loss()"
   ]
  },
  {
   "cell_type": "code",
   "execution_count": null,
   "metadata": {},
   "outputs": [],
   "source": [
    "#learn.save(f'resnet34-single_sz{sz}-bs{bs}-postsubmission')\n",
    "learn.load(f'resnet34-single_sz{sz}-bs{bs}-postsubmission')"
   ]
  },
  {
   "cell_type": "code",
   "execution_count": null,
   "metadata": {},
   "outputs": [],
   "source": [
    "preds, _ = learn.TTA(is_test=True)\n",
    "p_test = preds.mean(axis=0)\n",
    "\n",
    "rms_errors = np.sqrt(np.mean((p_test - y_test)**2))"
   ]
  },
  {
   "cell_type": "markdown",
   "metadata": {},
   "source": [
    "```python\n",
    "predicted = df_test.loc[test_names].copy()\n",
    "predicted['prediction'] = p_test\n",
    "\n",
    "predicted.to_csv(f'{PATH}/catalogs/predictions_{sz}-oh_p50.csv')\n",
    "```"
   ]
  },
  {
   "cell_type": "code",
   "execution_count": null,
   "metadata": {},
   "outputs": [],
   "source": [
    "predicted = df_test.loc[test_names].copy()\n",
    "predicted['prediction'] = p_test\n",
    "\n",
    "predicted.to_csv(f'{PATH}/catalogs/post-submission/predictions_{sz}-oh_p50.csv')\n",
    "\n"
   ]
  },
  {
   "cell_type": "code",
   "execution_count": null,
   "metadata": {},
   "outputs": [],
   "source": [
    "plot_comparison_with_marginals(y_test, p_test)"
   ]
  },
  {
   "cell_type": "markdown",
   "metadata": {},
   "source": [
    "# 8 x 8 $gri$ imaging"
   ]
  },
  {
   "cell_type": "code",
   "execution_count": null,
   "metadata": {},
   "outputs": [],
   "source": [
    "sz = 8\n",
    "bs = 128\n",
    "arch = resnet34"
   ]
  },
  {
   "cell_type": "code",
   "execution_count": null,
   "metadata": {},
   "outputs": [],
   "source": [
    "val_idxs = get_cv_idxs(n)\n",
    "data = get_data(arch, sz, bs, val_idxs=val_idxs)\n",
    "\n",
    "learn = ConvLearner.pretrained(arch, data)\n",
    "metrics = [rmse]\n",
    "learn.crit = rmse"
   ]
  },
  {
   "cell_type": "code",
   "execution_count": null,
   "metadata": {},
   "outputs": [],
   "source": [
    "lr = 1e-1\n",
    "learn.fit(lr, 2)\n",
    "\n",
    "lrs = [1e-2, 3e-2, 1e-1]\n",
    "learn.unfreeze()\n",
    "learn.fit(lrs, 1)\n",
    "learn.fit(lrs, 3, cycle_len=1, cycle_mult=2)\n",
    "\n",
    "learn.sched.plot_loss()"
   ]
  },
  {
   "cell_type": "code",
   "execution_count": null,
   "metadata": {},
   "outputs": [],
   "source": [
    "#learn.save(f'resnet34-single_sz{sz}-bs{bs}-postsubmission')\n",
    "learn.load(f'resnet34-single_sz{sz}-bs{bs}-postsubmission')"
   ]
  },
  {
   "cell_type": "code",
   "execution_count": null,
   "metadata": {},
   "outputs": [],
   "source": [
    "preds, _ = learn.TTA(is_test=True)\n",
    "p_test = preds.mean(axis=0)\n",
    "\n",
    "rms_errors = np.sqrt(np.mean((p_test - y_test)**2))"
   ]
  },
  {
   "cell_type": "markdown",
   "metadata": {},
   "source": [
    "```python\n",
    "predicted = df_test.loc[test_names].copy()\n",
    "predicted['prediction'] = p_test\n",
    "\n",
    "predicted.to_csv(f'{PATH}/catalogs/predictions_{sz}-oh_p50.csv')\n",
    "```"
   ]
  },
  {
   "cell_type": "code",
   "execution_count": null,
   "metadata": {},
   "outputs": [],
   "source": [
    "predicted = df_test.loc[test_names].copy()\n",
    "predicted['prediction'] = p_test\n",
    "\n",
    "predicted.to_csv(f'{PATH}/catalogs/post-submission/predictions_{sz}-oh_p50.csv')"
   ]
  },
  {
   "cell_type": "code",
   "execution_count": null,
   "metadata": {},
   "outputs": [],
   "source": [
    "plot_comparison_with_marginals(y_test, p_test)"
   ]
  },
  {
   "cell_type": "markdown",
   "metadata": {},
   "source": [
    "# 4 x 4 $gri$ imaging"
   ]
  },
  {
   "cell_type": "code",
   "execution_count": null,
   "metadata": {},
   "outputs": [],
   "source": [
    "sz = 4\n",
    "bs = 128\n",
    "arch = resnet34"
   ]
  },
  {
   "cell_type": "code",
   "execution_count": null,
   "metadata": {},
   "outputs": [],
   "source": [
    "val_idxs = get_cv_idxs(n)\n",
    "data = get_data(arch, sz, bs, val_idxs=val_idxs)\n",
    "\n",
    "learn = ConvLearner.pretrained(arch, data)\n",
    "metrics = [rmse]\n",
    "learn.crit = rmse"
   ]
  },
  {
   "cell_type": "code",
   "execution_count": null,
   "metadata": {},
   "outputs": [],
   "source": [
    "lr = 1e-1\n",
    "learn.fit(lr, 2)\n",
    "\n",
    "lrs = [1e-2, 3e-2, 1e-1]\n",
    "learn.unfreeze()\n",
    "learn.fit(lrs, 1)\n",
    "learn.fit(lrs, 3, cycle_len=1, cycle_mult=2)\n",
    "\n",
    "learn.sched.plot_loss()"
   ]
  },
  {
   "cell_type": "code",
   "execution_count": null,
   "metadata": {},
   "outputs": [],
   "source": [
    "#learn.save(f'resnet34-single_sz{sz}-bs{bs}-postsubmission')\n",
    "learn.load(f'resnet34-single_sz{sz}-bs{bs}-postsubmission')"
   ]
  },
  {
   "cell_type": "code",
   "execution_count": null,
   "metadata": {},
   "outputs": [],
   "source": [
    "preds, _ = learn.TTA(is_test=True)\n",
    "p_test = preds.mean(axis=0)\n",
    "\n",
    "rms_errors = np.sqrt(np.mean((p_test - y_test)**2))"
   ]
  },
  {
   "cell_type": "markdown",
   "metadata": {},
   "source": [
    "```python\n",
    "predicted = df_test.loc[test_names].copy()\n",
    "predicted['prediction'] = p_test\n",
    "\n",
    "predicted.to_csv(f'{PATH}/catalogs/predictions_{sz}-oh_p50.csv')\n",
    "```"
   ]
  },
  {
   "cell_type": "code",
   "execution_count": null,
   "metadata": {},
   "outputs": [],
   "source": [
    "predicted = df_test.loc[test_names].copy()\n",
    "predicted['prediction'] = p_test\n",
    "\n",
    "predicted.to_csv(f'{PATH}/catalogs/post-submission/predictions_{sz}-oh_p50.csv')\n"
   ]
  },
  {
   "cell_type": "code",
   "execution_count": null,
   "metadata": {},
   "outputs": [],
   "source": [
    "plot_comparison_with_marginals(y_test, p_test)"
   ]
  },
  {
   "cell_type": "markdown",
   "metadata": {},
   "source": [
    "# 2 x 2 imaging"
   ]
  },
  {
   "cell_type": "code",
   "execution_count": null,
   "metadata": {},
   "outputs": [],
   "source": [
    "sz = 2\n",
    "bs = 128\n",
    "arch = resnet34"
   ]
  },
  {
   "cell_type": "code",
   "execution_count": null,
   "metadata": {},
   "outputs": [],
   "source": [
    "val_idxs = get_cv_idxs(n)\n",
    "data = get_data(arch, sz, bs, val_idxs=val_idxs)\n",
    "\n",
    "learn = ConvLearner.pretrained(arch, data)\n",
    "metrics = [rmse]\n",
    "learn.crit = rmse"
   ]
  },
  {
   "cell_type": "code",
   "execution_count": null,
   "metadata": {},
   "outputs": [],
   "source": [
    "lr = 1e-1\n",
    "learn.fit(lr, 2)\n",
    "\n",
    "lrs = [1e-2, 3e-2, 1e-1]\n",
    "learn.unfreeze()\n",
    "learn.fit(lrs, 1)\n",
    "learn.fit(lrs, 3, cycle_len=1, cycle_mult=2)\n",
    "\n",
    "learn.sched.plot_loss()"
   ]
  },
  {
   "cell_type": "code",
   "execution_count": null,
   "metadata": {},
   "outputs": [],
   "source": [
    "#learn.save(f'resnet34-single_sz{sz}-bs{bs}-postsubmission')\n",
    "learn.load(f'resnet34-single_sz{sz}-bs{bs}-postsubmission')"
   ]
  },
  {
   "cell_type": "code",
   "execution_count": null,
   "metadata": {},
   "outputs": [],
   "source": [
    "preds, _ = learn.TTA(is_test=True)\n",
    "p_test = preds.mean(axis=0)\n",
    "\n",
    "rms_errors = np.sqrt(np.mean((p_test - y_test)**2))"
   ]
  },
  {
   "cell_type": "markdown",
   "metadata": {},
   "source": [
    "```\n",
    "predicted = df_test.loc[test_names].copy()\n",
    "predicted['prediction'] = p_test\n",
    "\n",
    "predicted.to_csv(f'{PATH}/catalogs/predictions_{sz}-oh_p50.csv')\n",
    "```"
   ]
  },
  {
   "cell_type": "code",
   "execution_count": null,
   "metadata": {},
   "outputs": [],
   "source": [
    "predicted = df_test.loc[test_names].copy()\n",
    "predicted['prediction'] = p_test\n",
    "\n",
    "predicted.to_csv(f'{PATH}/catalogs/post-submission/predictions_{sz}-oh_p50.csv')"
   ]
  },
  {
   "cell_type": "code",
   "execution_count": null,
   "metadata": {},
   "outputs": [],
   "source": [
    "plot_comparison_with_marginals(y_test, p_test)"
   ]
  },
  {
   "cell_type": "markdown",
   "metadata": {},
   "source": [
    "# 1 x 1 \"images\""
   ]
  },
  {
   "cell_type": "code",
   "execution_count": null,
   "metadata": {},
   "outputs": [],
   "source": [
    "sz = 1\n",
    "bs = 128\n",
    "arch = resnet34"
   ]
  },
  {
   "cell_type": "code",
   "execution_count": null,
   "metadata": {},
   "outputs": [],
   "source": [
    "val_idxs = get_cv_idxs(n)\n",
    "data = get_data(arch, sz, bs, val_idxs=val_idxs)\n",
    "\n",
    "learn = ConvLearner.pretrained(arch, data)\n",
    "metrics = [rmse]\n",
    "learn.crit = rmse"
   ]
  },
  {
   "cell_type": "code",
   "execution_count": null,
   "metadata": {},
   "outputs": [],
   "source": [
    "lr = 1e-1\n",
    "learn.fit(lr, 2)\n",
    "\n",
    "lrs = [1e-2, 3e-2, 1e-1]\n",
    "learn.unfreeze()\n",
    "learn.fit(lrs, 1)\n",
    "learn.fit(lrs, 3, cycle_len=1, cycle_mult=2)\n",
    "\n",
    "learn.sched.plot_loss()"
   ]
  },
  {
   "cell_type": "code",
   "execution_count": null,
   "metadata": {},
   "outputs": [],
   "source": [
    "#learn.save(f'resnet34-single_sz{sz}-bs{bs}-postsubmission')\n",
    "learn.load(f'resnet34-single_sz{sz}-bs{bs}-postsubmission')"
   ]
  },
  {
   "cell_type": "code",
   "execution_count": null,
   "metadata": {},
   "outputs": [],
   "source": [
    "preds, _ = learn.TTA(is_test=True)\n",
    "p_test = preds.mean(axis=0)\n",
    "\n",
    "rms_errors = np.sqrt(np.mean((p_test - y_test)**2))\n"
   ]
  },
  {
   "cell_type": "markdown",
   "metadata": {},
   "source": [
    "```python\n",
    "predicted = df_test.loc[test_names].copy()\n",
    "predicted['prediction'] = p_test\n",
    "\n",
    "predicted.to_csv(f'{PATH}/catalogs/predictions_{sz}-oh_p50.csv')\n",
    "```"
   ]
  },
  {
   "cell_type": "code",
   "execution_count": null,
   "metadata": {},
   "outputs": [],
   "source": [
    "predicted = df_test.loc[test_names].copy()\n",
    "predicted['prediction'] = p_test\n",
    "\n",
    "predicted.to_csv(f'{PATH}/catalogs/post-submission/predictions_{sz}-oh_p50.csv')"
   ]
  },
  {
   "cell_type": "code",
   "execution_count": null,
   "metadata": {},
   "outputs": [],
   "source": [
    "plot_comparison_with_marginals(y_test, p_test)"
   ]
  },
  {
   "cell_type": "code",
   "execution_count": null,
   "metadata": {},
   "outputs": [],
   "source": []
  }
 ],
 "metadata": {
  "kernelspec": {
   "display_name": "Python [default]",
   "language": "python",
   "name": "python3"
  },
  "language_info": {
   "codemirror_mode": {
    "name": "ipython",
    "version": 3
   },
   "file_extension": ".py",
   "mimetype": "text/x-python",
   "name": "python",
   "nbconvert_exporter": "python",
   "pygments_lexer": "ipython3",
   "version": "3.6.5"
  },
  "toc": {
   "base_numbering": 1,
   "nav_menu": {},
   "number_sections": true,
   "sideBar": true,
   "skip_h1_title": false,
   "title_cell": "Table of Contents",
   "title_sidebar": "Contents",
   "toc_cell": false,
   "toc_position": {},
   "toc_section_display": true,
   "toc_window_display": true
  }
 },
 "nbformat": 4,
 "nbformat_minor": 2
}
