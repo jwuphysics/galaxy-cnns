{
 "cells": [
  {
   "cell_type": "markdown",
   "metadata": {},
   "source": [
    "# Multitarget training\n",
    "\n",
    "Consider the possibility that a model trained to predict SFR, $M_\\star$, and $Z$ may yield improved $Z$ estimates than a model only trained on $Z$. This might be due to fact that the learned layers may yield suitable representations for all three of these quantities, since those quantities are indeed linked. Likewise, other parameters could be relevant, such as redshift, Balmer decrement, etc..."
   ]
  },
  {
   "cell_type": "code",
   "execution_count": 2,
   "metadata": {},
   "outputs": [],
   "source": [
    "%reload_ext autoreload\n",
    "%autoreload 2\n",
    "%matplotlib inline\n",
    "\n",
    "from fastai.imports import *\n",
    "from fastai.transforms import *\n",
    "from fastai.conv_learner import *\n",
    "from fastai.model import *\n",
    "from fastai.dataset import *\n",
    "from fastai.sgdr import *\n",
    "from fastai.plots import *\n",
    "\n",
    "import sys\n",
    "sys.path.append('../src')\n",
    "from multiclass import *\n",
    "\n",
    "import torch \n",
    "\n",
    "from IPython.display import display"
   ]
  },
  {
   "cell_type": "code",
   "execution_count": 3,
   "metadata": {},
   "outputs": [],
   "source": [
    "PATH = os.path.abspath('..')"
   ]
  },
  {
   "cell_type": "code",
   "execution_count": 11,
   "metadata": {},
   "outputs": [],
   "source": [
    "# train-val permutation\n",
    "np.random.seed(1234)\n",
    "np.random.permutation(n)\n",
    "\n",
    "# params\n",
    "sz = 128\n",
    "bs = 128\n",
    "arch = resnet34"
   ]
  },
  {
   "cell_type": "markdown",
   "metadata": {},
   "source": [
    "# Data wrangling"
   ]
  },
  {
   "cell_type": "code",
   "execution_count": 6,
   "metadata": {},
   "outputs": [
    {
     "data": {
      "text/plain": [
       "Index(['specObjID', 'ra', 'dec', 'z', 'zErr', 'velDisp', 'velDispErr',\n",
       "       'modelMag_u', 'modelMagErr_u', 'modelMag_g', 'modelMagErr_g',\n",
       "       'modelMag_r', 'modelMagErr_r', 'modelMag_i', 'modelMagErr_i',\n",
       "       'modelMag_z', 'modelMagErr_z', 'petroR50_r', 'petroR90_r',\n",
       "       'nii_6584_flux', 'nii_6584_flux_err', 'h_alpha_flux',\n",
       "       'h_alpha_flux_err', 'oiii_5007_flux', 'oiii_5007_flux_err',\n",
       "       'h_beta_flux', 'h_beta_flux_err', 'h_delta_flux', 'h_delta_flux_err',\n",
       "       'd4000', 'd4000_err', 'bptclass', 'oh_p2p5', 'oh_p16', 'oh_p50',\n",
       "       'oh_p84', 'oh_p97p5', 'lgm_tot_p50', 'sfr_tot_p50'],\n",
       "      dtype='object')"
      ]
     },
     "metadata": {},
     "output_type": "display_data"
    },
    {
     "data": {
      "text/html": [
       "<div>\n",
       "<style scoped>\n",
       "    .dataframe tbody tr th:only-of-type {\n",
       "        vertical-align: middle;\n",
       "    }\n",
       "\n",
       "    .dataframe tbody tr th {\n",
       "        vertical-align: top;\n",
       "    }\n",
       "\n",
       "    .dataframe thead th {\n",
       "        text-align: right;\n",
       "    }\n",
       "</style>\n",
       "<table border=\"1\" class=\"dataframe\">\n",
       "  <thead>\n",
       "    <tr style=\"text-align: right;\">\n",
       "      <th></th>\n",
       "      <th>specObjID</th>\n",
       "      <th>ra</th>\n",
       "      <th>dec</th>\n",
       "      <th>z</th>\n",
       "      <th>zErr</th>\n",
       "      <th>velDisp</th>\n",
       "      <th>velDispErr</th>\n",
       "      <th>modelMag_u</th>\n",
       "      <th>modelMagErr_u</th>\n",
       "      <th>modelMag_g</th>\n",
       "      <th>...</th>\n",
       "      <th>d4000</th>\n",
       "      <th>d4000_err</th>\n",
       "      <th>bptclass</th>\n",
       "      <th>oh_p2p5</th>\n",
       "      <th>oh_p16</th>\n",
       "      <th>oh_p50</th>\n",
       "      <th>oh_p84</th>\n",
       "      <th>oh_p97p5</th>\n",
       "      <th>lgm_tot_p50</th>\n",
       "      <th>sfr_tot_p50</th>\n",
       "    </tr>\n",
       "    <tr>\n",
       "      <th>objID</th>\n",
       "      <th></th>\n",
       "      <th></th>\n",
       "      <th></th>\n",
       "      <th></th>\n",
       "      <th></th>\n",
       "      <th></th>\n",
       "      <th></th>\n",
       "      <th></th>\n",
       "      <th></th>\n",
       "      <th></th>\n",
       "      <th></th>\n",
       "      <th></th>\n",
       "      <th></th>\n",
       "      <th></th>\n",
       "      <th></th>\n",
       "      <th></th>\n",
       "      <th></th>\n",
       "      <th></th>\n",
       "      <th></th>\n",
       "      <th></th>\n",
       "      <th></th>\n",
       "    </tr>\n",
       "  </thead>\n",
       "  <tbody>\n",
       "    <tr>\n",
       "      <th>1237662662136889578</th>\n",
       "      <td>1855555942322563072</td>\n",
       "      <td>224.913448</td>\n",
       "      <td>32.194464</td>\n",
       "      <td>0.107872</td>\n",
       "      <td>0.000009</td>\n",
       "      <td>112.55400</td>\n",
       "      <td>20.82185</td>\n",
       "      <td>20.11342</td>\n",
       "      <td>0.070109</td>\n",
       "      <td>18.64421</td>\n",
       "      <td>...</td>\n",
       "      <td>1.525160</td>\n",
       "      <td>0.026992</td>\n",
       "      <td>1</td>\n",
       "      <td>9.044375</td>\n",
       "      <td>9.082402</td>\n",
       "      <td>9.094025</td>\n",
       "      <td>9.125540</td>\n",
       "      <td>9.153540</td>\n",
       "      <td>10.327280</td>\n",
       "      <td>0.620626</td>\n",
       "    </tr>\n",
       "    <tr>\n",
       "      <th>1237661386543858010</th>\n",
       "      <td>1506526414633986048</td>\n",
       "      <td>246.544628</td>\n",
       "      <td>35.917125</td>\n",
       "      <td>0.032480</td>\n",
       "      <td>0.000010</td>\n",
       "      <td>68.75546</td>\n",
       "      <td>22.94688</td>\n",
       "      <td>18.85899</td>\n",
       "      <td>0.048051</td>\n",
       "      <td>17.67112</td>\n",
       "      <td>...</td>\n",
       "      <td>1.414519</td>\n",
       "      <td>0.047318</td>\n",
       "      <td>1</td>\n",
       "      <td>8.399909</td>\n",
       "      <td>8.545540</td>\n",
       "      <td>8.607080</td>\n",
       "      <td>8.688625</td>\n",
       "      <td>8.754168</td>\n",
       "      <td>9.117995</td>\n",
       "      <td>-0.693769</td>\n",
       "    </tr>\n",
       "    <tr>\n",
       "      <th>1237662224091644116</th>\n",
       "      <td>2087563072892856320</td>\n",
       "      <td>246.412572</td>\n",
       "      <td>21.012325</td>\n",
       "      <td>0.058008</td>\n",
       "      <td>0.000006</td>\n",
       "      <td>69.17170</td>\n",
       "      <td>27.12546</td>\n",
       "      <td>19.21305</td>\n",
       "      <td>0.082369</td>\n",
       "      <td>17.86300</td>\n",
       "      <td>...</td>\n",
       "      <td>1.388597</td>\n",
       "      <td>0.033866</td>\n",
       "      <td>1</td>\n",
       "      <td>8.669164</td>\n",
       "      <td>8.695722</td>\n",
       "      <td>8.718302</td>\n",
       "      <td>8.776249</td>\n",
       "      <td>8.812502</td>\n",
       "      <td>9.579187</td>\n",
       "      <td>-0.121077</td>\n",
       "    </tr>\n",
       "    <tr>\n",
       "      <th>1237666339726295173</th>\n",
       "      <td>447109836463695872</td>\n",
       "      <td>17.571397</td>\n",
       "      <td>0.403090</td>\n",
       "      <td>0.044406</td>\n",
       "      <td>0.000011</td>\n",
       "      <td>19.89343</td>\n",
       "      <td>22.47732</td>\n",
       "      <td>19.42895</td>\n",
       "      <td>0.054685</td>\n",
       "      <td>18.07506</td>\n",
       "      <td>...</td>\n",
       "      <td>1.440748</td>\n",
       "      <td>0.024921</td>\n",
       "      <td>1</td>\n",
       "      <td>8.953504</td>\n",
       "      <td>8.995851</td>\n",
       "      <td>9.015946</td>\n",
       "      <td>9.067870</td>\n",
       "      <td>9.085432</td>\n",
       "      <td>9.512147</td>\n",
       "      <td>-0.439014</td>\n",
       "    </tr>\n",
       "    <tr>\n",
       "      <th>1237658425160433897</th>\n",
       "      <td>1391680775610460160</td>\n",
       "      <td>150.756822</td>\n",
       "      <td>7.277533</td>\n",
       "      <td>0.062123</td>\n",
       "      <td>0.000008</td>\n",
       "      <td>75.88831</td>\n",
       "      <td>10.33038</td>\n",
       "      <td>18.56701</td>\n",
       "      <td>0.021084</td>\n",
       "      <td>17.41704</td>\n",
       "      <td>...</td>\n",
       "      <td>1.432882</td>\n",
       "      <td>0.011615</td>\n",
       "      <td>1</td>\n",
       "      <td>8.999403</td>\n",
       "      <td>9.043521</td>\n",
       "      <td>9.053862</td>\n",
       "      <td>9.108606</td>\n",
       "      <td>9.119075</td>\n",
       "      <td>10.011060</td>\n",
       "      <td>0.328800</td>\n",
       "    </tr>\n",
       "  </tbody>\n",
       "</table>\n",
       "<p>5 rows × 39 columns</p>\n",
       "</div>"
      ],
      "text/plain": [
       "                               specObjID          ra        dec         z  \\\n",
       "objID                                                                       \n",
       "1237662662136889578  1855555942322563072  224.913448  32.194464  0.107872   \n",
       "1237661386543858010  1506526414633986048  246.544628  35.917125  0.032480   \n",
       "1237662224091644116  2087563072892856320  246.412572  21.012325  0.058008   \n",
       "1237666339726295173   447109836463695872   17.571397   0.403090  0.044406   \n",
       "1237658425160433897  1391680775610460160  150.756822   7.277533  0.062123   \n",
       "\n",
       "                         zErr    velDisp  velDispErr  modelMag_u  \\\n",
       "objID                                                              \n",
       "1237662662136889578  0.000009  112.55400    20.82185    20.11342   \n",
       "1237661386543858010  0.000010   68.75546    22.94688    18.85899   \n",
       "1237662224091644116  0.000006   69.17170    27.12546    19.21305   \n",
       "1237666339726295173  0.000011   19.89343    22.47732    19.42895   \n",
       "1237658425160433897  0.000008   75.88831    10.33038    18.56701   \n",
       "\n",
       "                     modelMagErr_u  modelMag_g     ...          d4000  \\\n",
       "objID                                              ...                  \n",
       "1237662662136889578       0.070109    18.64421     ...       1.525160   \n",
       "1237661386543858010       0.048051    17.67112     ...       1.414519   \n",
       "1237662224091644116       0.082369    17.86300     ...       1.388597   \n",
       "1237666339726295173       0.054685    18.07506     ...       1.440748   \n",
       "1237658425160433897       0.021084    17.41704     ...       1.432882   \n",
       "\n",
       "                     d4000_err  bptclass   oh_p2p5    oh_p16    oh_p50  \\\n",
       "objID                                                                    \n",
       "1237662662136889578   0.026992         1  9.044375  9.082402  9.094025   \n",
       "1237661386543858010   0.047318         1  8.399909  8.545540  8.607080   \n",
       "1237662224091644116   0.033866         1  8.669164  8.695722  8.718302   \n",
       "1237666339726295173   0.024921         1  8.953504  8.995851  9.015946   \n",
       "1237658425160433897   0.011615         1  8.999403  9.043521  9.053862   \n",
       "\n",
       "                       oh_p84  oh_p97p5  lgm_tot_p50  sfr_tot_p50  \n",
       "objID                                                              \n",
       "1237662662136889578  9.125540  9.153540    10.327280     0.620626  \n",
       "1237661386543858010  8.688625  8.754168     9.117995    -0.693769  \n",
       "1237662224091644116  8.776249  8.812502     9.579187    -0.121077  \n",
       "1237666339726295173  9.067870  9.085432     9.512147    -0.439014  \n",
       "1237658425160433897  9.108606  9.119075    10.011060     0.328800  \n",
       "\n",
       "[5 rows x 39 columns]"
      ]
     },
     "metadata": {},
     "output_type": "display_data"
    },
    {
     "data": {
      "text/html": [
       "<div>\n",
       "<style scoped>\n",
       "    .dataframe tbody tr th:only-of-type {\n",
       "        vertical-align: middle;\n",
       "    }\n",
       "\n",
       "    .dataframe tbody tr th {\n",
       "        vertical-align: top;\n",
       "    }\n",
       "\n",
       "    .dataframe thead th {\n",
       "        text-align: right;\n",
       "    }\n",
       "</style>\n",
       "<table border=\"1\" class=\"dataframe\">\n",
       "  <thead>\n",
       "    <tr style=\"text-align: right;\">\n",
       "      <th></th>\n",
       "      <th>specObjID</th>\n",
       "      <th>ra</th>\n",
       "      <th>dec</th>\n",
       "      <th>z</th>\n",
       "      <th>zErr</th>\n",
       "      <th>velDisp</th>\n",
       "      <th>velDispErr</th>\n",
       "      <th>modelMag_u</th>\n",
       "      <th>modelMagErr_u</th>\n",
       "      <th>modelMag_g</th>\n",
       "      <th>...</th>\n",
       "      <th>d4000</th>\n",
       "      <th>d4000_err</th>\n",
       "      <th>bptclass</th>\n",
       "      <th>oh_p2p5</th>\n",
       "      <th>oh_p16</th>\n",
       "      <th>oh_p50</th>\n",
       "      <th>oh_p84</th>\n",
       "      <th>oh_p97p5</th>\n",
       "      <th>lgm_tot_p50</th>\n",
       "      <th>sfr_tot_p50</th>\n",
       "    </tr>\n",
       "  </thead>\n",
       "  <tbody>\n",
       "    <tr>\n",
       "      <th>count</th>\n",
       "      <td>1.421860e+05</td>\n",
       "      <td>142186.000000</td>\n",
       "      <td>142186.000000</td>\n",
       "      <td>142186.000000</td>\n",
       "      <td>142186.000000</td>\n",
       "      <td>142186.000000</td>\n",
       "      <td>142186.000000</td>\n",
       "      <td>142186.000000</td>\n",
       "      <td>142186.000000</td>\n",
       "      <td>142186.000000</td>\n",
       "      <td>...</td>\n",
       "      <td>142186.000000</td>\n",
       "      <td>142186.000000</td>\n",
       "      <td>142186.000000</td>\n",
       "      <td>142186.000000</td>\n",
       "      <td>142186.000000</td>\n",
       "      <td>142186.000000</td>\n",
       "      <td>142186.000000</td>\n",
       "      <td>142186.000000</td>\n",
       "      <td>142186.000000</td>\n",
       "      <td>142186.000000</td>\n",
       "    </tr>\n",
       "    <tr>\n",
       "      <th>mean</th>\n",
       "      <td>1.670875e+18</td>\n",
       "      <td>184.374437</td>\n",
       "      <td>24.705360</td>\n",
       "      <td>0.076997</td>\n",
       "      <td>0.000009</td>\n",
       "      <td>75.457109</td>\n",
       "      <td>21.395893</td>\n",
       "      <td>18.918378</td>\n",
       "      <td>0.043612</td>\n",
       "      <td>17.671626</td>\n",
       "      <td>...</td>\n",
       "      <td>1.419777</td>\n",
       "      <td>0.022407</td>\n",
       "      <td>0.998818</td>\n",
       "      <td>8.808043</td>\n",
       "      <td>8.858256</td>\n",
       "      <td>8.906503</td>\n",
       "      <td>8.950962</td>\n",
       "      <td>8.992822</td>\n",
       "      <td>7.123441</td>\n",
       "      <td>0.156911</td>\n",
       "    </tr>\n",
       "    <tr>\n",
       "      <th>std</th>\n",
       "      <td>8.360386e+17</td>\n",
       "      <td>59.646105</td>\n",
       "      <td>18.799871</td>\n",
       "      <td>0.039115</td>\n",
       "      <td>0.000004</td>\n",
       "      <td>55.536267</td>\n",
       "      <td>24.567234</td>\n",
       "      <td>0.709229</td>\n",
       "      <td>0.033416</td>\n",
       "      <td>0.677756</td>\n",
       "      <td>...</td>\n",
       "      <td>0.133587</td>\n",
       "      <td>0.011272</td>\n",
       "      <td>0.048598</td>\n",
       "      <td>0.265869</td>\n",
       "      <td>0.230567</td>\n",
       "      <td>0.198560</td>\n",
       "      <td>0.178611</td>\n",
       "      <td>0.172104</td>\n",
       "      <td>169.940095</td>\n",
       "      <td>0.551883</td>\n",
       "    </tr>\n",
       "    <tr>\n",
       "      <th>min</th>\n",
       "      <td>2.994911e+17</td>\n",
       "      <td>0.000672</td>\n",
       "      <td>-11.216682</td>\n",
       "      <td>0.020001</td>\n",
       "      <td>0.000003</td>\n",
       "      <td>0.000000</td>\n",
       "      <td>-3.000000</td>\n",
       "      <td>12.483010</td>\n",
       "      <td>0.002975</td>\n",
       "      <td>13.351350</td>\n",
       "      <td>...</td>\n",
       "      <td>0.000000</td>\n",
       "      <td>0.000000</td>\n",
       "      <td>-1.000000</td>\n",
       "      <td>7.670827</td>\n",
       "      <td>7.771679</td>\n",
       "      <td>7.851740</td>\n",
       "      <td>7.907599</td>\n",
       "      <td>7.984161</td>\n",
       "      <td>-9999.000000</td>\n",
       "      <td>-4.296250</td>\n",
       "    </tr>\n",
       "    <tr>\n",
       "      <th>25%</th>\n",
       "      <td>9.391734e+17</td>\n",
       "      <td>151.289065</td>\n",
       "      <td>9.598762</td>\n",
       "      <td>0.047693</td>\n",
       "      <td>0.000007</td>\n",
       "      <td>46.811273</td>\n",
       "      <td>12.195190</td>\n",
       "      <td>18.548573</td>\n",
       "      <td>0.029515</td>\n",
       "      <td>17.339060</td>\n",
       "      <td>...</td>\n",
       "      <td>1.338242</td>\n",
       "      <td>0.014753</td>\n",
       "      <td>1.000000</td>\n",
       "      <td>8.700817</td>\n",
       "      <td>8.746164</td>\n",
       "      <td>8.808777</td>\n",
       "      <td>8.845355</td>\n",
       "      <td>8.879015</td>\n",
       "      <td>9.643470</td>\n",
       "      <td>-0.190642</td>\n",
       "    </tr>\n",
       "    <tr>\n",
       "      <th>50%</th>\n",
       "      <td>1.632593e+18</td>\n",
       "      <td>185.437855</td>\n",
       "      <td>23.077153</td>\n",
       "      <td>0.070907</td>\n",
       "      <td>0.000009</td>\n",
       "      <td>72.398525</td>\n",
       "      <td>16.689315</td>\n",
       "      <td>19.026515</td>\n",
       "      <td>0.039659</td>\n",
       "      <td>17.832575</td>\n",
       "      <td>...</td>\n",
       "      <td>1.407462</td>\n",
       "      <td>0.019827</td>\n",
       "      <td>1.000000</td>\n",
       "      <td>8.877043</td>\n",
       "      <td>8.925525</td>\n",
       "      <td>8.955610</td>\n",
       "      <td>8.991807</td>\n",
       "      <td>9.016777</td>\n",
       "      <td>10.055775</td>\n",
       "      <td>0.172893</td>\n",
       "    </tr>\n",
       "    <tr>\n",
       "      <th>75%</th>\n",
       "      <td>2.372436e+18</td>\n",
       "      <td>221.035937</td>\n",
       "      <td>38.778248</td>\n",
       "      <td>0.097837</td>\n",
       "      <td>0.000011</td>\n",
       "      <td>99.632985</td>\n",
       "      <td>24.009310</td>\n",
       "      <td>19.387577</td>\n",
       "      <td>0.052246</td>\n",
       "      <td>18.154280</td>\n",
       "      <td>...</td>\n",
       "      <td>1.491309</td>\n",
       "      <td>0.027185</td>\n",
       "      <td>1.000000</td>\n",
       "      <td>8.993226</td>\n",
       "      <td>9.014766</td>\n",
       "      <td>9.053747</td>\n",
       "      <td>9.084128</td>\n",
       "      <td>9.117110</td>\n",
       "      <td>10.416570</td>\n",
       "      <td>0.523608</td>\n",
       "    </tr>\n",
       "    <tr>\n",
       "      <th>max</th>\n",
       "      <td>3.348596e+18</td>\n",
       "      <td>359.994814</td>\n",
       "      <td>70.266535</td>\n",
       "      <td>0.381676</td>\n",
       "      <td>0.000130</td>\n",
       "      <td>850.000000</td>\n",
       "      <td>1600.000000</td>\n",
       "      <td>23.837450</td>\n",
       "      <td>2.829808</td>\n",
       "      <td>24.378170</td>\n",
       "      <td>...</td>\n",
       "      <td>3.873904</td>\n",
       "      <td>0.302199</td>\n",
       "      <td>1.000000</td>\n",
       "      <td>9.460500</td>\n",
       "      <td>9.463200</td>\n",
       "      <td>9.469999</td>\n",
       "      <td>9.476800</td>\n",
       "      <td>9.479500</td>\n",
       "      <td>12.492280</td>\n",
       "      <td>3.875005</td>\n",
       "    </tr>\n",
       "  </tbody>\n",
       "</table>\n",
       "<p>8 rows × 39 columns</p>\n",
       "</div>"
      ],
      "text/plain": [
       "          specObjID             ra            dec              z  \\\n",
       "count  1.421860e+05  142186.000000  142186.000000  142186.000000   \n",
       "mean   1.670875e+18     184.374437      24.705360       0.076997   \n",
       "std    8.360386e+17      59.646105      18.799871       0.039115   \n",
       "min    2.994911e+17       0.000672     -11.216682       0.020001   \n",
       "25%    9.391734e+17     151.289065       9.598762       0.047693   \n",
       "50%    1.632593e+18     185.437855      23.077153       0.070907   \n",
       "75%    2.372436e+18     221.035937      38.778248       0.097837   \n",
       "max    3.348596e+18     359.994814      70.266535       0.381676   \n",
       "\n",
       "                zErr        velDisp     velDispErr     modelMag_u  \\\n",
       "count  142186.000000  142186.000000  142186.000000  142186.000000   \n",
       "mean        0.000009      75.457109      21.395893      18.918378   \n",
       "std         0.000004      55.536267      24.567234       0.709229   \n",
       "min         0.000003       0.000000      -3.000000      12.483010   \n",
       "25%         0.000007      46.811273      12.195190      18.548573   \n",
       "50%         0.000009      72.398525      16.689315      19.026515   \n",
       "75%         0.000011      99.632985      24.009310      19.387577   \n",
       "max         0.000130     850.000000    1600.000000      23.837450   \n",
       "\n",
       "       modelMagErr_u     modelMag_g      ...                d4000  \\\n",
       "count  142186.000000  142186.000000      ...        142186.000000   \n",
       "mean        0.043612      17.671626      ...             1.419777   \n",
       "std         0.033416       0.677756      ...             0.133587   \n",
       "min         0.002975      13.351350      ...             0.000000   \n",
       "25%         0.029515      17.339060      ...             1.338242   \n",
       "50%         0.039659      17.832575      ...             1.407462   \n",
       "75%         0.052246      18.154280      ...             1.491309   \n",
       "max         2.829808      24.378170      ...             3.873904   \n",
       "\n",
       "           d4000_err       bptclass        oh_p2p5         oh_p16  \\\n",
       "count  142186.000000  142186.000000  142186.000000  142186.000000   \n",
       "mean        0.022407       0.998818       8.808043       8.858256   \n",
       "std         0.011272       0.048598       0.265869       0.230567   \n",
       "min         0.000000      -1.000000       7.670827       7.771679   \n",
       "25%         0.014753       1.000000       8.700817       8.746164   \n",
       "50%         0.019827       1.000000       8.877043       8.925525   \n",
       "75%         0.027185       1.000000       8.993226       9.014766   \n",
       "max         0.302199       1.000000       9.460500       9.463200   \n",
       "\n",
       "              oh_p50         oh_p84       oh_p97p5    lgm_tot_p50  \\\n",
       "count  142186.000000  142186.000000  142186.000000  142186.000000   \n",
       "mean        8.906503       8.950962       8.992822       7.123441   \n",
       "std         0.198560       0.178611       0.172104     169.940095   \n",
       "min         7.851740       7.907599       7.984161   -9999.000000   \n",
       "25%         8.808777       8.845355       8.879015       9.643470   \n",
       "50%         8.955610       8.991807       9.016777      10.055775   \n",
       "75%         9.053747       9.084128       9.117110      10.416570   \n",
       "max         9.469999       9.476800       9.479500      12.492280   \n",
       "\n",
       "         sfr_tot_p50  \n",
       "count  142186.000000  \n",
       "mean        0.156911  \n",
       "std         0.551883  \n",
       "min        -4.296250  \n",
       "25%        -0.190642  \n",
       "50%         0.172893  \n",
       "75%         0.523608  \n",
       "max         3.875005  \n",
       "\n",
       "[8 rows x 39 columns]"
      ]
     },
     "metadata": {},
     "output_type": "display_data"
    }
   ],
   "source": [
    "df_full = pd.read_csv(f'{PATH}/catalogs/SDSSspecgalsDR14_boada.csv', index_col=0)\n",
    "display(df_full.columns)\n",
    "display(df_full.sample(5))\n",
    "display(df_full.describe())"
   ]
  },
  {
   "cell_type": "code",
   "execution_count": 17,
   "metadata": {},
   "outputs": [],
   "source": [
    "# get SDSS IDs that correspond to training images\n",
    "indices = pd.read_csv(f'{PATH}/catalogs/train-oh_p50.csv', index_col=0).index\n",
    "\n",
    "df_train = df_full.loc[indices]"
   ]
  },
  {
   "cell_type": "code",
   "execution_count": 18,
   "metadata": {},
   "outputs": [],
   "source": [
    "# columns that we want to predict \n",
    "cols = ['oh_p50', 'lgm_tot_p50', 'sfr_tot_p50', 'd4000', 'z']\n",
    "\n",
    "df = df_train[cols].copy()\n",
    "df['balmer_decrement'] = df_train.h_alpha_flux / df_train.h_beta_flux"
   ]
  },
  {
   "cell_type": "code",
   "execution_count": 19,
   "metadata": {},
   "outputs": [],
   "source": [
    "# remove nans\n",
    "df.dropna(inplace=True)\n",
    "\n",
    "# remove values of -9999\n",
    "df = df[df.lgm_tot_p50 != -9999]"
   ]
  },
  {
   "cell_type": "code",
   "execution_count": 21,
   "metadata": {},
   "outputs": [
    {
     "data": {
      "image/png": "[encoded data removed]",
      "text/plain": [
       "<Figure size 432x288 with 1 Axes>"
      ]
     },
     "metadata": {},
     "output_type": "display_data"
    },
    {
     "data": {
      "image/png": "[encoded data removed]",
      "text/plain": [
       "<Figure size 432x288 with 1 Axes>"
      ]
     },
     "metadata": {},
     "output_type": "display_data"
    },
    {
     "data": {
      "image/png": "[encoded data removed]",
      "text/plain": [
       "<Figure size 432x288 with 1 Axes>"
      ]
     },
     "metadata": {},
     "output_type": "display_data"
    },
    {
     "data": {
      "image/png": "[encoded data removed]",
      "text/plain": [
       "<Figure size 432x288 with 1 Axes>"
      ]
     },
     "metadata": {},
     "output_type": "display_data"
    },
    {
     "data": {
      "image/png": "[encoded data removed]",
      "text/plain": [
       "<Figure size 432x288 with 1 Axes>"
      ]
     },
     "metadata": {},
     "output_type": "display_data"
    },
    {
     "data": {
      "image/png": "[encoded data removed]",
      "text/plain": [
       "<Figure size 432x288 with 1 Axes>"
      ]
     },
     "metadata": {},
     "output_type": "display_data"
    }
   ],
   "source": [
    "for col in df.columns:\n",
    "    plt.hist(df[col], bins=30, log=True, label=col)\n",
    "    plt.legend()\n",
    "    plt.show()"
   ]
  },
  {
   "cell_type": "code",
   "execution_count": 4,
   "metadata": {},
   "outputs": [],
   "source": [
    "# save out\n",
    "#df.to_csv(f'{PATH}/catalogs/train-multitarget.csv')\n",
    "df = pd.read_csv(f'{PATH}/catalogs/train-multitarget.csv', index_col=0)"
   ]
  },
  {
   "cell_type": "markdown",
   "metadata": {},
   "source": [
    "## Repeat the same for test data"
   ]
  },
  {
   "cell_type": "code",
   "execution_count": 24,
   "metadata": {},
   "outputs": [],
   "source": [
    "indices = pd.read_csv(f'{PATH}/catalogs/test-oh_p50.csv', index_col=0).index\n",
    "\n",
    "df_test = df_full.loc[indices]\n",
    "\n",
    "df = df_test[cols].copy()\n",
    "df['balmer_decrement'] = df_test.h_alpha_flux / df_test.h_beta_flux\n",
    "\n",
    "df.dropna(inplace=True)\n",
    "df = df[df.lgm_tot_p50 != -9999]"
   ]
  },
  {
   "cell_type": "code",
   "execution_count": 25,
   "metadata": {
    "scrolled": false
   },
   "outputs": [
    {
     "data": {
      "image/png": "[encoded data removed]",
      "text/plain": [
       "<Figure size 432x288 with 1 Axes>"
      ]
     },
     "metadata": {},
     "output_type": "display_data"
    },
    {
     "data": {
      "image/png": "[encoded data removed]",
      "text/plain": [
       "<Figure size 432x288 with 1 Axes>"
      ]
     },
     "metadata": {},
     "output_type": "display_data"
    },
    {
     "data": {
      "image/png": "[encoded data removed]",
      "text/plain": [
       "<Figure size 432x288 with 1 Axes>"
      ]
     },
     "metadata": {},
     "output_type": "display_data"
    },
    {
     "data": {
      "image/png": "[encoded data removed]",
      "text/plain": [
       "<Figure size 432x288 with 1 Axes>"
      ]
     },
     "metadata": {},
     "output_type": "display_data"
    },
    {
     "data": {
      "image/png": "[encoded data removed]",
      "text/plain": [
       "<Figure size 432x288 with 1 Axes>"
      ]
     },
     "metadata": {},
     "output_type": "display_data"
    },
    {
     "data": {
      "image/png": "[encoded data removed]",
      "text/plain": [
       "<Figure size 432x288 with 1 Axes>"
      ]
     },
     "metadata": {},
     "output_type": "display_data"
    }
   ],
   "source": [
    "for col in df.columns:\n",
    "    plt.hist(df[col], bins=30, log=True, label=col)\n",
    "    plt.legend()\n",
    "    plt.show()"
   ]
  },
  {
   "cell_type": "code",
   "execution_count": 26,
   "metadata": {},
   "outputs": [],
   "source": [
    "df.to_csv(f'{PATH}/catalogs/test-multitarget.csv')"
   ]
  },
  {
   "cell_type": "markdown",
   "metadata": {},
   "source": [
    "# Training"
   ]
  },
  {
   "cell_type": "markdown",
   "metadata": {},
   "source": [
    "## Setting up"
   ]
  },
  {
   "cell_type": "code",
   "execution_count": 5,
   "metadata": {},
   "outputs": [],
   "source": [
    "train_label_csv = f'{PATH}/catalogs/train-multitarget.csv'\n",
    "df = pd.read_csv(train_label_csv, index_col=0)\n",
    "\n",
    "n = len(df)\n",
    "val_idxs = get_cv_idxs(n)"
   ]
  },
  {
   "cell_type": "code",
   "execution_count": 37,
   "metadata": {},
   "outputs": [],
   "source": [
    "def get_data(arch, sz, bs, val_idxs=val_idxs):\n",
    "    tfms = tfms_from_model(arch, sz, aug_tfms=transforms_top_down, max_zoom=1.1)\n",
    "    return ImageClassifierData.from_multiclass_csv(PATH, 'train', train_label_csv, tfms=tfms,\n",
    "                    suffix='.jpg', val_idxs=val_idxs, test_name='test', num_workers=16)\n"
   ]
  },
  {
   "cell_type": "code",
   "execution_count": 39,
   "metadata": {},
   "outputs": [],
   "source": [
    "# params\n",
    "sz = 128\n",
    "bs = 128\n",
    "arch = resnet34"
   ]
  },
  {
   "cell_type": "code",
   "execution_count": 40,
   "metadata": {},
   "outputs": [],
   "source": [
    "data = get_data(arch, sz, bs, val_idxs=val_idxs)\n",
    "\n",
    "learn = ConvLearner.pretrained(arch, data, pretrained=False)\n",
    "metrics = [rmse]\n",
    "learn.crit = rmse"
   ]
  },
  {
   "cell_type": "markdown",
   "metadata": {},
   "source": [
    "## Finding learning rate"
   ]
  },
  {
   "cell_type": "code",
   "execution_count": 41,
   "metadata": {},
   "outputs": [
    {
     "data": {
      "application/vnd.jupyter.widget-view+json": {
       "model_id": "8290e6943229479380bdb92815c61603",
       "version_major": 2,
       "version_minor": 0
      },
      "text/plain": [
       "HBox(children=(IntProgress(value=0, description='Epoch', max=1), HTML(value='')))"
      ]
     },
     "metadata": {},
     "output_type": "display_data"
    },
    {
     "name": "stdout",
     "output_type": "stream",
     "text": [
      " 89%|████████▉ | 1065/1199 [01:33<00:11, 11.35it/s, loss=2.32] "
     ]
    },
    {
     "data": {
      "image/png": "[encoded data removed]",
      "text/plain": [
       "<Figure size 432x288 with 1 Axes>"
      ]
     },
     "metadata": {},
     "output_type": "display_data"
    },
    {
     "name": "stdout",
     "output_type": "stream",
     "text": [
      "\r",
      " 89%|████████▉ | 1065/1199 [01:50<00:13,  9.68it/s, loss=2.32]"
     ]
    }
   ],
   "source": [
    "learn.lr_find()\n",
    "learn.sched.plot()"
   ]
  },
  {
   "cell_type": "markdown",
   "metadata": {},
   "source": [
    "## Standard training regiment"
   ]
  },
  {
   "cell_type": "code",
   "execution_count": 42,
   "metadata": {},
   "outputs": [
    {
     "data": {
      "application/vnd.jupyter.widget-view+json": {
       "model_id": "05207c6ee5c3471894c257c0d654324f",
       "version_major": 2,
       "version_minor": 0
      },
      "text/plain": [
       "HBox(children=(IntProgress(value=0, description='Epoch', max=2), HTML(value='')))"
      ]
     },
     "metadata": {},
     "output_type": "display_data"
    },
    {
     "name": "stdout",
     "output_type": "stream",
     "text": [
      "epoch      trn_loss   val_loss                                 \n",
      "    0      0.368578   0.355979  \n",
      "    1      0.361853   0.33272                                  \n"
     ]
    },
    {
     "data": {
      "application/vnd.jupyter.widget-view+json": {
       "model_id": "68cce1aee9634466a9020b6ad24e7228",
       "version_major": 2,
       "version_minor": 0
      },
      "text/plain": [
       "HBox(children=(IntProgress(value=0, description='Epoch', max=1), HTML(value='')))"
      ]
     },
     "metadata": {},
     "output_type": "display_data"
    },
    {
     "name": "stdout",
     "output_type": "stream",
     "text": [
      "epoch      trn_loss   val_loss                                 \n",
      "    0      0.293408   0.297489  \n"
     ]
    },
    {
     "data": {
      "application/vnd.jupyter.widget-view+json": {
       "model_id": "506d279d44c940c7b38bc8ae44a8032a",
       "version_major": 2,
       "version_minor": 0
      },
      "text/plain": [
       "HBox(children=(IntProgress(value=0, description='Epoch', max=7), HTML(value='')))"
      ]
     },
     "metadata": {},
     "output_type": "display_data"
    },
    {
     "name": "stdout",
     "output_type": "stream",
     "text": [
      "epoch      trn_loss   val_loss                                 \n",
      "    0      0.287387   0.26819   \n",
      "    1      0.279438   0.268853                                 \n",
      "    2      0.275396   0.264289                                 \n",
      "    3      0.284936   0.280146                                 \n",
      "    4      0.273638   0.276206                                 \n",
      "    5      0.274002   0.261008                                 \n",
      "    6      0.268651   0.259562                                 \n"
     ]
    },
    {
     "data": {
      "image/png": "[encoded data removed]",
      "text/plain": [
       "<Figure size 432x288 with 1 Axes>"
      ]
     },
     "metadata": {},
     "output_type": "display_data"
    }
   ],
   "source": [
    "lr = 1e-1\n",
    "learn.fit(lr, 2)\n",
    "\n",
    "lrs = [1e-2, 3e-2, 1e-1]\n",
    "learn.unfreeze()\n",
    "\n",
    "learn.fit(lrs, 1)\n",
    "learn.fit(lrs, 3, cycle_len=1, cycle_mult=2)\n",
    "\n",
    "learn.sched.plot_loss()"
   ]
  },
  {
   "cell_type": "code",
   "execution_count": 43,
   "metadata": {},
   "outputs": [],
   "source": [
    "#learn.save('resnet34_multitarget-regular')\n",
    "learn.load('resnet34_multitarget-regular')"
   ]
  },
  {
   "cell_type": "markdown",
   "metadata": {},
   "source": [
    "# Examine predictions"
   ]
  },
  {
   "cell_type": "code",
   "execution_count": 45,
   "metadata": {},
   "outputs": [
    {
     "name": "stdout",
     "output_type": "stream",
     "text": [
      "                                             \r"
     ]
    }
   ],
   "source": [
    "preds = learn.TTA(is_test=True)[0].mean(axis=0)\n"
   ]
  },
  {
   "cell_type": "code",
   "execution_count": 62,
   "metadata": {},
   "outputs": [],
   "source": [
    "df_pred = pd.DataFrame(data=preds, index=indices, columns=df.columns)"
   ]
  },
  {
   "cell_type": "markdown",
   "metadata": {},
   "source": [
    "## Answer key"
   ]
  },
  {
   "cell_type": "code",
   "execution_count": 56,
   "metadata": {},
   "outputs": [
    {
     "data": {
      "text/html": [
       "<div>\n",
       "<style scoped>\n",
       "    .dataframe tbody tr th:only-of-type {\n",
       "        vertical-align: middle;\n",
       "    }\n",
       "\n",
       "    .dataframe tbody tr th {\n",
       "        vertical-align: top;\n",
       "    }\n",
       "\n",
       "    .dataframe thead th {\n",
       "        text-align: right;\n",
       "    }\n",
       "</style>\n",
       "<table border=\"1\" class=\"dataframe\">\n",
       "  <thead>\n",
       "    <tr style=\"text-align: right;\">\n",
       "      <th></th>\n",
       "      <th>oh_p50</th>\n",
       "      <th>lgm_tot_p50</th>\n",
       "      <th>sfr_tot_p50</th>\n",
       "      <th>d4000</th>\n",
       "      <th>z</th>\n",
       "      <th>balmer_decrement</th>\n",
       "    </tr>\n",
       "    <tr>\n",
       "      <th>objID</th>\n",
       "      <th></th>\n",
       "      <th></th>\n",
       "      <th></th>\n",
       "      <th></th>\n",
       "      <th></th>\n",
       "      <th></th>\n",
       "    </tr>\n",
       "  </thead>\n",
       "  <tbody>\n",
       "    <tr>\n",
       "      <th>1237648672922206684</th>\n",
       "      <td>8.676655</td>\n",
       "      <td>9.433080</td>\n",
       "      <td>0.045122</td>\n",
       "      <td>1.337505</td>\n",
       "      <td>0.065651</td>\n",
       "      <td>3.752570</td>\n",
       "    </tr>\n",
       "    <tr>\n",
       "      <th>1237648673431879906</th>\n",
       "      <td>8.915661</td>\n",
       "      <td>10.499040</td>\n",
       "      <td>0.293388</td>\n",
       "      <td>1.647457</td>\n",
       "      <td>0.077888</td>\n",
       "      <td>5.450780</td>\n",
       "    </tr>\n",
       "    <tr>\n",
       "      <th>1237648673458028997</th>\n",
       "      <td>8.824834</td>\n",
       "      <td>9.694625</td>\n",
       "      <td>0.140291</td>\n",
       "      <td>1.420438</td>\n",
       "      <td>0.066615</td>\n",
       "      <td>3.693142</td>\n",
       "    </tr>\n",
       "    <tr>\n",
       "      <th>1237648673459470810</th>\n",
       "      <td>8.598277</td>\n",
       "      <td>9.311505</td>\n",
       "      <td>-0.456691</td>\n",
       "      <td>1.317906</td>\n",
       "      <td>0.046537</td>\n",
       "      <td>3.117777</td>\n",
       "    </tr>\n",
       "    <tr>\n",
       "      <th>1237648673994768731</th>\n",
       "      <td>8.486758</td>\n",
       "      <td>9.260650</td>\n",
       "      <td>-0.952921</td>\n",
       "      <td>1.489409</td>\n",
       "      <td>0.028943</td>\n",
       "      <td>3.776626</td>\n",
       "    </tr>\n",
       "  </tbody>\n",
       "</table>\n",
       "</div>"
      ],
      "text/plain": [
       "                       oh_p50  lgm_tot_p50  sfr_tot_p50     d4000         z  \\\n",
       "objID                                                                         \n",
       "1237648672922206684  8.676655     9.433080     0.045122  1.337505  0.065651   \n",
       "1237648673431879906  8.915661    10.499040     0.293388  1.647457  0.077888   \n",
       "1237648673458028997  8.824834     9.694625     0.140291  1.420438  0.066615   \n",
       "1237648673459470810  8.598277     9.311505    -0.456691  1.317906  0.046537   \n",
       "1237648673994768731  8.486758     9.260650    -0.952921  1.489409  0.028943   \n",
       "\n",
       "                     balmer_decrement  \n",
       "objID                                  \n",
       "1237648672922206684          3.752570  \n",
       "1237648673431879906          5.450780  \n",
       "1237648673458028997          3.693142  \n",
       "1237648673459470810          3.117777  \n",
       "1237648673994768731          3.776626  "
      ]
     },
     "execution_count": 56,
     "metadata": {},
     "output_type": "execute_result"
    }
   ],
   "source": [
    "df_true = pd.read_csv(f'{PATH}/catalogs/test-multitarget.csv', index_col=0)\n",
    "df_true.head(5)"
   ]
  },
  {
   "cell_type": "markdown",
   "metadata": {},
   "source": [
    "Make indices match (e.g., remove some that have nans or -9999 in the \"truths\")."
   ]
  },
  {
   "cell_type": "code",
   "execution_count": 63,
   "metadata": {},
   "outputs": [],
   "source": [
    "df_pred = df_pred.loc[df_true.index]"
   ]
  },
  {
   "cell_type": "code",
   "execution_count": 64,
   "metadata": {
    "scrolled": false
   },
   "outputs": [
    {
     "data": {
      "text/html": [
       "<div>\n",
       "<style scoped>\n",
       "    .dataframe tbody tr th:only-of-type {\n",
       "        vertical-align: middle;\n",
       "    }\n",
       "\n",
       "    .dataframe tbody tr th {\n",
       "        vertical-align: top;\n",
       "    }\n",
       "\n",
       "    .dataframe thead th {\n",
       "        text-align: right;\n",
       "    }\n",
       "</style>\n",
       "<table border=\"1\" class=\"dataframe\">\n",
       "  <thead>\n",
       "    <tr style=\"text-align: right;\">\n",
       "      <th></th>\n",
       "      <th>oh_p50</th>\n",
       "      <th>lgm_tot_p50</th>\n",
       "      <th>sfr_tot_p50</th>\n",
       "      <th>d4000</th>\n",
       "      <th>z</th>\n",
       "      <th>balmer_decrement</th>\n",
       "    </tr>\n",
       "    <tr>\n",
       "      <th>objID</th>\n",
       "      <th></th>\n",
       "      <th></th>\n",
       "      <th></th>\n",
       "      <th></th>\n",
       "      <th></th>\n",
       "      <th></th>\n",
       "    </tr>\n",
       "  </thead>\n",
       "  <tbody>\n",
       "    <tr>\n",
       "      <th>1237648672922206684</th>\n",
       "      <td>8.708987</td>\n",
       "      <td>9.382991</td>\n",
       "      <td>-0.384358</td>\n",
       "      <td>1.350354</td>\n",
       "      <td>0.046819</td>\n",
       "      <td>3.564259</td>\n",
       "    </tr>\n",
       "    <tr>\n",
       "      <th>1237648673431879906</th>\n",
       "      <td>8.719133</td>\n",
       "      <td>9.514215</td>\n",
       "      <td>-0.022682</td>\n",
       "      <td>1.321251</td>\n",
       "      <td>0.060300</td>\n",
       "      <td>3.411083</td>\n",
       "    </tr>\n",
       "    <tr>\n",
       "      <th>1237648673458028997</th>\n",
       "      <td>9.021193</td>\n",
       "      <td>10.392543</td>\n",
       "      <td>0.909887</td>\n",
       "      <td>1.293198</td>\n",
       "      <td>0.124818</td>\n",
       "      <td>4.279572</td>\n",
       "    </tr>\n",
       "    <tr>\n",
       "      <th>1237648673459470810</th>\n",
       "      <td>9.020337</td>\n",
       "      <td>10.595610</td>\n",
       "      <td>0.364855</td>\n",
       "      <td>1.597625</td>\n",
       "      <td>0.089674</td>\n",
       "      <td>4.756908</td>\n",
       "    </tr>\n",
       "    <tr>\n",
       "      <th>1237648673994768731</th>\n",
       "      <td>8.582023</td>\n",
       "      <td>9.150290</td>\n",
       "      <td>-0.534865</td>\n",
       "      <td>1.320011</td>\n",
       "      <td>0.042663</td>\n",
       "      <td>3.402697</td>\n",
       "    </tr>\n",
       "  </tbody>\n",
       "</table>\n",
       "</div>"
      ],
      "text/plain": [
       "                       oh_p50  lgm_tot_p50  sfr_tot_p50     d4000         z  \\\n",
       "objID                                                                         \n",
       "1237648672922206684  8.708987     9.382991    -0.384358  1.350354  0.046819   \n",
       "1237648673431879906  8.719133     9.514215    -0.022682  1.321251  0.060300   \n",
       "1237648673458028997  9.021193    10.392543     0.909887  1.293198  0.124818   \n",
       "1237648673459470810  9.020337    10.595610     0.364855  1.597625  0.089674   \n",
       "1237648673994768731  8.582023     9.150290    -0.534865  1.320011  0.042663   \n",
       "\n",
       "                     balmer_decrement  \n",
       "objID                                  \n",
       "1237648672922206684          3.564259  \n",
       "1237648673431879906          3.411083  \n",
       "1237648673458028997          4.279572  \n",
       "1237648673459470810          4.756908  \n",
       "1237648673994768731          3.402697  "
      ]
     },
     "execution_count": 64,
     "metadata": {},
     "output_type": "execute_result"
    }
   ],
   "source": [
    "df_pred.head(5)"
   ]
  },
  {
   "cell_type": "markdown",
   "metadata": {},
   "source": [
    "## Examine predictions"
   ]
  },
  {
   "cell_type": "code",
   "execution_count": 66,
   "metadata": {},
   "outputs": [
    {
     "data": {
      "image/png": "[encoded data removed]",
      "text/plain": [
       "<Figure size 576x576 with 1 Axes>"
      ]
     },
     "metadata": {},
     "output_type": "display_data"
    },
    {
     "data": {
      "image/png": "[encoded data removed]",
      "text/plain": [
       "<Figure size 576x576 with 1 Axes>"
      ]
     },
     "metadata": {},
     "output_type": "display_data"
    },
    {
     "data": {
      "image/png": "[encoded data removed]",
      "text/plain": [
       "<Figure size 576x576 with 1 Axes>"
      ]
     },
     "metadata": {},
     "output_type": "display_data"
    },
    {
     "data": {
      "image/png": "[encoded data removed]",
      "text/plain": [
       "<Figure size 576x576 with 1 Axes>"
      ]
     },
     "metadata": {},
     "output_type": "display_data"
    },
    {
     "data": {
      "image/png": "[encoded data removed]",
      "text/plain": [
       "<Figure size 576x576 with 1 Axes>"
      ]
     },
     "metadata": {},
     "output_type": "display_data"
    },
    {
     "data": {
      "image/png": "[encoded data removed]",
      "text/plain": [
       "<Figure size 576x576 with 1 Axes>"
      ]
     },
     "metadata": {},
     "output_type": "display_data"
    }
   ],
   "source": [
    "for col in df_true.columns:\n",
    "    # \"y\" is just a general galaxy property\n",
    "    y_pred = df_pred[col].values\n",
    "    y_true = df_true[col].values\n",
    "    \n",
    "    fig, ax = plt.subplots(1, 1, figsize=(8, 8))\n",
    "        \n",
    "    ax.hist2d(x=y_true, y=y_pred, bins=50)\n",
    "    ax.set_aspect('equal')\n",
    "    \n",
    "    loss = rmse_np(y_pred, y_true)\n",
    "    \n",
    "    ax.set_title(f'{col}: {loss:.4f}')\n",
    "    ax.set_xlabel('True')\n",
    "    ax.set_ylabel('Predicted')"
   ]
  },
  {
   "cell_type": "markdown",
   "metadata": {},
   "source": [
    "Hmm... could it be that we're using the wrong training metric?"
   ]
  },
  {
   "cell_type": "markdown",
   "metadata": {},
   "source": [
    "# Try random initialized, superconvergent training"
   ]
  },
  {
   "cell_type": "code",
   "execution_count": 9,
   "metadata": {},
   "outputs": [],
   "source": [
    "train_label_csv = f'{PATH}/catalogs/train-multitarget.csv'\n",
    "df = pd.read_csv(train_label_csv, index_col=0)\n",
    "\n",
    "n = len(df)\n",
    "val_idxs = get_cv_idxs(n)\n",
    "\n",
    "def get_data(arch, sz, bs, val_idxs=val_idxs):\n",
    "    tfms = tfms_from_model(arch, sz, aug_tfms=transforms_top_down, max_zoom=1.1)\n",
    "    return ImageClassifierData.from_multiclass_csv(PATH, 'train', train_label_csv, tfms=tfms,\n",
    "                    suffix='.jpg', val_idxs=val_idxs, test_name='test', num_workers=16)\n"
   ]
  },
  {
   "cell_type": "code",
   "execution_count": 12,
   "metadata": {},
   "outputs": [],
   "source": [
    "data = get_data(arch, sz, bs, val_idxs=val_idxs)\n",
    "\n",
    "learn = ConvLearner.pretrained(arch, data, pretrained=False)\n",
    "metrics = [rmse]\n",
    "learn.crit = rmse"
   ]
  },
  {
   "cell_type": "code",
   "execution_count": null,
   "metadata": {},
   "outputs": [
    {
     "data": {
      "application/vnd.jupyter.widget-view+json": {
       "model_id": "7bca2e720dd84248b8069c9251e23779",
       "version_major": 2,
       "version_minor": 0
      },
      "text/plain": [
       "HBox(children=(IntProgress(value=0, description='Epoch', max=70), HTML(value='')))"
      ]
     },
     "metadata": {},
     "output_type": "display_data"
    },
    {
     "name": "stdout",
     "output_type": "stream",
     "text": [
      " 87%|████████▋ | 1042/1199 [02:35<00:23,  6.68it/s, loss=0.455]"
     ]
    }
   ],
   "source": [
    "learn.unfreeze()\n",
    "\n",
    "lr = 0.1            # maximum lr\n",
    "lr_factor = 10      # minimum lr = lr/lr_factor\n",
    "lr_anneal_pct = 15. # percentage of cycle to cosine anneal\n",
    "\n",
    "cycle_len = 70\n",
    "\n",
    "momentum_max = 0.95 # maximum of momentum (when at min lr)\n",
    "momentum_min = 0.85 # minimum of momentum (when at max lr)\n",
    "weight_decay = 1e-4 # weight decay (constant)\n",
    "\n",
    "learn.fit(lr, 1, \n",
    "          cycle_len=cycle_len, \n",
    "          use_clr_beta=(lr_factor, lr_anneal_pct, momentum_max, momentum_min), \n",
    "          wds=weight_decay)"
   ]
  },
  {
   "cell_type": "code",
   "execution_count": null,
   "metadata": {},
   "outputs": [],
   "source": [
    "learn.save('resnet34_multitarget-ri_sc')\n",
    "learn.load('resnet34_multitarget-ri_sc')"
   ]
  },
  {
   "cell_type": "code",
   "execution_count": null,
   "metadata": {},
   "outputs": [],
   "source": [
    "learn.sched.plot_loss(n_skip=1200)\n",
    "plt.plot(np.arange(1, cycle_len+1)*1200, learn.sched.val_losses)"
   ]
  },
  {
   "cell_type": "code",
   "execution_count": null,
   "metadata": {},
   "outputs": [],
   "source": [
    "# get TTA predictions\n",
    "preds = learn.TTA(is_test=True)[0].mean(axis=0)\n",
    "df_pred = pd.DataFrame(data=preds, index=indices, columns=df.columns)\n",
    "\n",
    "# answers\n",
    "df_true = pd.read_csv(f'{PATH}/catalogs/test-multitarget.csv', index_col=0)\n",
    "\n",
    "# align\n",
    "df_pred = df_pred.loc[df_true.index]"
   ]
  },
  {
   "cell_type": "code",
   "execution_count": null,
   "metadata": {},
   "outputs": [],
   "source": [
    "for col in df_true.columns:\n",
    "    # \"y\" is just a general galaxy property\n",
    "    y_pred = df_pred[col].values\n",
    "    y_true = df_true[col].values\n",
    "    \n",
    "    fig, ax = plt.subplots(1, 1, figsize=(8, 8))\n",
    "        \n",
    "    ax.hist2d(x=y_true, y=y_pred, bins=50)\n",
    "    ax.set_aspect('equal')\n",
    "    \n",
    "    loss = rmse_np(y_pred, y_true)\n",
    "    \n",
    "    ax.set_title(f'{col}: {loss:.4f}')\n",
    "    ax.set_xlabel('True')\n",
    "    ax.set_ylabel('Predicted')"
   ]
  },
  {
   "cell_type": "code",
   "execution_count": null,
   "metadata": {},
   "outputs": [],
   "source": []
  }
 ],
 "metadata": {
  "kernelspec": {
   "display_name": "Python [conda env:fastai]",
   "language": "python",
   "name": "conda-env-fastai-py"
  },
  "language_info": {
   "codemirror_mode": {
    "name": "ipython",
    "version": 3
   },
   "file_extension": ".py",
   "mimetype": "text/x-python",
   "name": "python",
   "nbconvert_exporter": "python",
   "pygments_lexer": "ipython3",
   "version": "3.6.5"
  },
  "toc": {
   "base_numbering": 1,
   "nav_menu": {},
   "number_sections": true,
   "sideBar": true,
   "skip_h1_title": false,
   "title_cell": "Table of Contents",
   "title_sidebar": "Contents",
   "toc_cell": false,
   "toc_position": {},
   "toc_section_display": true,
   "toc_window_display": false
  }
 },
 "nbformat": 4,
 "nbformat_minor": 2
}
