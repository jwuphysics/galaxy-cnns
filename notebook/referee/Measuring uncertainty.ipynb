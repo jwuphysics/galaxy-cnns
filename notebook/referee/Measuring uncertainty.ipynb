{
 "cells": [
  {
   "cell_type": "markdown",
   "metadata": {},
   "source": [
    "# Measuring uncertainties in the RMSE metric"
   ]
  },
  {
   "cell_type": "code",
   "execution_count": 1,
   "metadata": {},
   "outputs": [],
   "source": [
    "%reload_ext autoreload\n",
    "%autoreload 2\n",
    "%matplotlib inline\n",
    "\n",
    "from fastai.imports import *\n",
    "from fastai.transforms import *\n",
    "from fastai.conv_learner import *\n",
    "from fastai.model import *\n",
    "from fastai.dataset import *\n",
    "from fastai.sgdr import *\n",
    "from fastai.plots import *\n",
    "\n",
    "import sys\n",
    "sys.path.append('../../src')\n",
    "from multiclass import *\n",
    "\n",
    "import torch \n",
    "\n",
    "from contextlib import redirect_stdout\n",
    "from IPython.display import display\n",
    "\n",
    "PATH = os.path.abspath('../..')"
   ]
  },
  {
   "cell_type": "markdown",
   "metadata": {},
   "source": [
    "# k-fold train-test split\n",
    "Since we're not optimizing any hyperparameters, we can simply look at how the validation (= test) scores change using a $k$-fold split."
   ]
  },
  {
   "cell_type": "code",
   "execution_count": 6,
   "metadata": {},
   "outputs": [],
   "source": [
    "# get SDSS object IDs of all images\n",
    "obj_ids = np.array([os.path.splitext(os.path.basename(fname))[0] for fname in glob(f'{PATH}/images/*.jpg')]).astype(np.int64)"
   ]
  },
  {
   "cell_type": "code",
   "execution_count": 102,
   "metadata": {},
   "outputs": [],
   "source": [
    "df_full = pd.read_csv(f'{PATH}/catalogs/SDSSspecgalsDR14_boada.csv', index_col=0)\n",
    "\n",
    "# get only those with images and save out\n",
    "df_images = df_full.loc[df_full.index.intersection(obj_ids)]\n",
    "\n",
    "# drop duplicates\n",
    "df_images = df_images.loc[~df_images.index.duplicated()]\n",
    "df_images.to_csv(f'{PATH}/catalogs/all-images.csv', columns=df_images.columns)"
   ]
  },
  {
   "cell_type": "markdown",
   "metadata": {},
   "source": [
    "## Predict only [O/H]"
   ]
  },
  {
   "cell_type": "code",
   "execution_count": 104,
   "metadata": {},
   "outputs": [],
   "source": [
    "# save out only metallicity\n",
    "df = df_images['oh_p50']\n",
    "train_label_csv = f'{PATH}/catalogs/all-images-oh_p50.csv'\n",
    "df.to_csv(train_label_csv, header=True)"
   ]
  },
  {
   "cell_type": "code",
   "execution_count": 107,
   "metadata": {},
   "outputs": [],
   "source": [
    "def get_data(arch, sz, bs, val_idxs):\n",
    "    tfms = tfms_from_model(arch, sz, aug_tfms=transforms_top_down, max_zoom=1.1)\n",
    "    return ImageClassifierData.from_multiclass_csv(PATH, 'images', train_label_csv, tfms=tfms,\n",
    "                    suffix='.jpg', val_idxs=val_idxs, test_name=None, num_workers=16)\n"
   ]
  },
  {
   "cell_type": "code",
   "execution_count": 108,
   "metadata": {},
   "outputs": [],
   "source": [
    "# params\n",
    "sz = 128\n",
    "bs = 128\n",
    "arch = resnet34"
   ]
  },
  {
   "cell_type": "markdown",
   "metadata": {},
   "source": [
    "# Train and predict on the full data set"
   ]
  },
  {
   "cell_type": "code",
   "execution_count": 34,
   "metadata": {},
   "outputs": [
    {
     "data": {
      "application/vnd.jupyter.widget-view+json": {
       "model_id": "fa197bd875744d37a5bdb4e426b8ef42",
       "version_major": 2,
       "version_minor": 0
      },
      "text/plain": [
       "HBox(children=(IntProgress(value=0, description='Epoch', max=2), HTML(value='')))"
      ]
     },
     "metadata": {},
     "output_type": "display_data"
    },
    {
     "name": "stdout",
     "output_type": "stream",
     "text": [
      "epoch      trn_loss   val_loss                                 \n",
      "    0      0.154848   0.153678  \n",
      "    1      0.16004    0.138506                                 \n"
     ]
    },
    {
     "data": {
      "application/vnd.jupyter.widget-view+json": {
       "model_id": "a5dd99ea7163488e8533b2385c6d8bf1",
       "version_major": 2,
       "version_minor": 0
      },
      "text/plain": [
       "HBox(children=(IntProgress(value=0, description='Epoch', max=1), HTML(value='')))"
      ]
     },
     "metadata": {},
     "output_type": "display_data"
    },
    {
     "name": "stdout",
     "output_type": "stream",
     "text": [
      "epoch      trn_loss   val_loss                                 \n",
      "    0      0.123661   0.116784  \n"
     ]
    },
    {
     "data": {
      "application/vnd.jupyter.widget-view+json": {
       "model_id": "3961417f07634a80b59a12b7e1ce04ab",
       "version_major": 2,
       "version_minor": 0
      },
      "text/plain": [
       "HBox(children=(IntProgress(value=0, description='Epoch', max=7), HTML(value='')))"
      ]
     },
     "metadata": {},
     "output_type": "display_data"
    },
    {
     "name": "stdout",
     "output_type": "stream",
     "text": [
      "epoch      trn_loss   val_loss                                  \n",
      "    0      0.092422   0.087587  \n",
      "    1      0.102603   0.08817                                  \n",
      "    2      0.093135   0.086709                                  \n",
      "    3      0.108331   0.138349                                 \n",
      "    4      0.106008   0.089385                                 \n",
      "    5      0.095354   0.08388                                   \n",
      "    6      0.088996   0.084193                                  \n"
     ]
    },
    {
     "data": {
      "application/vnd.jupyter.widget-view+json": {
       "model_id": "4d79adb754054bf3bcd095bf5501ff0c",
       "version_major": 2,
       "version_minor": 0
      },
      "text/plain": [
       "HBox(children=(IntProgress(value=0, description='Epoch', max=2), HTML(value='')))"
      ]
     },
     "metadata": {},
     "output_type": "display_data"
    },
    {
     "name": "stdout",
     "output_type": "stream",
     "text": [
      "epoch      trn_loss   val_loss                                 \n",
      "    0      0.157462   0.139975  \n",
      "    1      0.157764   0.134189                                 \n"
     ]
    },
    {
     "data": {
      "application/vnd.jupyter.widget-view+json": {
       "model_id": "f410e57921524680a5cdbdfbf6e42d13",
       "version_major": 2,
       "version_minor": 0
      },
      "text/plain": [
       "HBox(children=(IntProgress(value=0, description='Epoch', max=1), HTML(value='')))"
      ]
     },
     "metadata": {},
     "output_type": "display_data"
    },
    {
     "name": "stdout",
     "output_type": "stream",
     "text": [
      "epoch      trn_loss   val_loss                                 \n",
      "    0      0.118175   0.102226  \n"
     ]
    },
    {
     "data": {
      "application/vnd.jupyter.widget-view+json": {
       "model_id": "5784e4e23a15425b8f6c81603c6fb156",
       "version_major": 2,
       "version_minor": 0
      },
      "text/plain": [
       "HBox(children=(IntProgress(value=0, description='Epoch', max=7), HTML(value='')))"
      ]
     },
     "metadata": {},
     "output_type": "display_data"
    },
    {
     "name": "stdout",
     "output_type": "stream",
     "text": [
      "epoch      trn_loss   val_loss                                  \n",
      "    0      0.093431   0.085745  \n",
      "    1      0.105014   0.087666                                 \n",
      "    2      0.09117    0.085054                                  \n",
      "    3      0.113582   0.104487                                 \n",
      "    4      0.102285   0.088787                                 \n",
      "    5      0.093086   0.082512                                  \n",
      "    6      0.091083   0.082774                                  \n"
     ]
    },
    {
     "data": {
      "application/vnd.jupyter.widget-view+json": {
       "model_id": "b83e812a5c0f46f297992bda31aa44ef",
       "version_major": 2,
       "version_minor": 0
      },
      "text/plain": [
       "HBox(children=(IntProgress(value=0, description='Epoch', max=2), HTML(value='')))"
      ]
     },
     "metadata": {},
     "output_type": "display_data"
    },
    {
     "name": "stdout",
     "output_type": "stream",
     "text": [
      "epoch      trn_loss   val_loss                                 \n",
      "    0      0.151705   0.144648  \n",
      "    1      0.153963   0.140638                                 \n"
     ]
    },
    {
     "data": {
      "application/vnd.jupyter.widget-view+json": {
       "model_id": "fde3198fd4bb46c2b4c10cd3ef091304",
       "version_major": 2,
       "version_minor": 0
      },
      "text/plain": [
       "HBox(children=(IntProgress(value=0, description='Epoch', max=1), HTML(value='')))"
      ]
     },
     "metadata": {},
     "output_type": "display_data"
    },
    {
     "name": "stdout",
     "output_type": "stream",
     "text": [
      "epoch      trn_loss   val_loss                                 \n",
      "    0      0.124147   0.09602   \n"
     ]
    },
    {
     "data": {
      "application/vnd.jupyter.widget-view+json": {
       "model_id": "1080ec2421bc4c29a5ac2ddfaa3a2f49",
       "version_major": 2,
       "version_minor": 0
      },
      "text/plain": [
       "HBox(children=(IntProgress(value=0, description='Epoch', max=7), HTML(value='')))"
      ]
     },
     "metadata": {},
     "output_type": "display_data"
    },
    {
     "name": "stdout",
     "output_type": "stream",
     "text": [
      "epoch      trn_loss   val_loss                                  \n",
      "    0      0.097344   0.088113  \n",
      "    1      0.101939   0.102623                                 \n",
      "    2      0.092802   0.086517                                  \n",
      "    3      0.118614   0.131479                                 \n",
      "    4      0.10075    0.111412                                  \n",
      "    5      0.093807   0.094869                                  \n",
      "    6      0.086553   0.08461                                   \n"
     ]
    },
    {
     "data": {
      "application/vnd.jupyter.widget-view+json": {
       "model_id": "f7c415dafa424a01a81c629042c7bf24",
       "version_major": 2,
       "version_minor": 0
      },
      "text/plain": [
       "HBox(children=(IntProgress(value=0, description='Epoch', max=2), HTML(value='')))"
      ]
     },
     "metadata": {},
     "output_type": "display_data"
    },
    {
     "name": "stdout",
     "output_type": "stream",
     "text": [
      "epoch      trn_loss   val_loss                                 \n",
      "    0      0.155763   0.150352  \n",
      "    1      0.150312   0.136072                                 \n"
     ]
    },
    {
     "data": {
      "application/vnd.jupyter.widget-view+json": {
       "model_id": "6ac8bcdedef14542ab613753f647eadf",
       "version_major": 2,
       "version_minor": 0
      },
      "text/plain": [
       "HBox(children=(IntProgress(value=0, description='Epoch', max=1), HTML(value='')))"
      ]
     },
     "metadata": {},
     "output_type": "display_data"
    },
    {
     "name": "stdout",
     "output_type": "stream",
     "text": [
      "epoch      trn_loss   val_loss                                 \n",
      "    0      0.1282     0.208105  \n"
     ]
    },
    {
     "data": {
      "application/vnd.jupyter.widget-view+json": {
       "model_id": "04f1639f58a14e2a8bc25d332a6992b7",
       "version_major": 2,
       "version_minor": 0
      },
      "text/plain": [
       "HBox(children=(IntProgress(value=0, description='Epoch', max=7), HTML(value='')))"
      ]
     },
     "metadata": {},
     "output_type": "display_data"
    },
    {
     "name": "stdout",
     "output_type": "stream",
     "text": [
      "epoch      trn_loss   val_loss                                  \n",
      "    0      0.093942   0.086627  \n",
      "    1      0.105392   0.095397                                 \n",
      "    2      0.092877   0.084936                                  \n",
      "    3      0.106841   0.092219                                 \n",
      "    4      0.10705    0.087114                                 \n",
      "    5      0.096016   0.084959                                  \n",
      "    6      0.088405   0.083041                                  \n"
     ]
    },
    {
     "data": {
      "application/vnd.jupyter.widget-view+json": {
       "model_id": "e828ff61c2f24156b6ad33ae2a9352c0",
       "version_major": 2,
       "version_minor": 0
      },
      "text/plain": [
       "HBox(children=(IntProgress(value=0, description='Epoch', max=2), HTML(value='')))"
      ]
     },
     "metadata": {},
     "output_type": "display_data"
    },
    {
     "name": "stdout",
     "output_type": "stream",
     "text": [
      "epoch      trn_loss   val_loss                                 \n",
      "    0      0.162266   0.193164  \n",
      "    1      0.154895   0.137904                                 \n"
     ]
    },
    {
     "data": {
      "application/vnd.jupyter.widget-view+json": {
       "model_id": "55adf7baee794fa08bcb6fef4ac87d28",
       "version_major": 2,
       "version_minor": 0
      },
      "text/plain": [
       "HBox(children=(IntProgress(value=0, description='Epoch', max=1), HTML(value='')))"
      ]
     },
     "metadata": {},
     "output_type": "display_data"
    },
    {
     "name": "stdout",
     "output_type": "stream",
     "text": [
      "epoch      trn_loss   val_loss                                 \n",
      "    0      0.121469   0.131841  \n"
     ]
    },
    {
     "data": {
      "application/vnd.jupyter.widget-view+json": {
       "model_id": "b4eaf0c6f53842bfbbe2c15307b82904",
       "version_major": 2,
       "version_minor": 0
      },
      "text/plain": [
       "HBox(children=(IntProgress(value=0, description='Epoch', max=7), HTML(value='')))"
      ]
     },
     "metadata": {},
     "output_type": "display_data"
    },
    {
     "name": "stdout",
     "output_type": "stream",
     "text": [
      "epoch      trn_loss   val_loss                                  \n",
      "    0      0.091164   0.08671   \n",
      "    1      0.102608   0.093794                                 \n",
      "    2      0.091263   0.085797                                  \n",
      "    3      0.113851   0.092231                                 \n",
      "    4      0.104029   0.118459                                 \n",
      "    5      0.093771   0.086587                                  \n",
      "    6      0.086569   0.084086                                  \n"
     ]
    }
   ],
   "source": [
    "np.random.seed(1234)\n",
    "n = len(df)\n",
    "all_idxs = np.random.permutation(np.arange(n))\n",
    "\n",
    "df = pd.read_csv(train_label_csv, index_col=0)\n",
    "\n",
    "for k in range(5):\n",
    "\n",
    "    val_idxs = all_idxs[int(k*n/5):int((k+1)*n/5)]\n",
    "    \n",
    "    data = get_data(arch, sz, bs, val_idxs)\n",
    "\n",
    "    learn = ConvLearner.pretrained(arch, data, pretrained=True)\n",
    "    learn.crit = rmse\n",
    "    \n",
    "    # training regiment\n",
    "    lr = 1e-1\n",
    "    learn.fit(lr, 2)\n",
    "\n",
    "    lrs = [1e-2, 3e-2, 1e-1]\n",
    "    learn.unfreeze()\n",
    "\n",
    "    learn.fit(lrs, 1)\n",
    "    learn.fit(lrs, 3, cycle_len=1, cycle_mult=2)\n",
    "    \n",
    "    # save out the learner\n",
    "    learn.save(f'all-images-oh_p50-fold_{k}')"
   ]
  },
  {
   "cell_type": "code",
   "execution_count": 42,
   "metadata": {},
   "outputs": [
    {
     "data": {
      "text/plain": [
       "'Train-validation split: 93143 23286'"
      ]
     },
     "metadata": {},
     "output_type": "display_data"
    }
   ],
   "source": [
    "display(f'Train-validation split: {np.round(4*n/5).astype(int)} {np.round(n/5).astype(int)}')"
   ]
  },
  {
   "cell_type": "markdown",
   "metadata": {},
   "source": [
    "## Without TTA"
   ]
  },
  {
   "cell_type": "code",
   "execution_count": 65,
   "metadata": {},
   "outputs": [
    {
     "data": {
      "text/plain": [
       "'For this (slightly larger) data set, and without TTA, we find that the RMSE is about 0.0837 +/- 0.0007.'"
      ]
     },
     "metadata": {},
     "output_type": "display_data"
    }
   ],
   "source": [
    "metrics = np.array([0.0842, 0.0828, 0.0846, 0.0830, 0.0841])\n",
    "display(f'For this (slightly larger) data set, and without TTA, we find that the RMSE is about {metrics.mean():.4f} +/- {metrics.std():.4f}.')"
   ]
  },
  {
   "cell_type": "markdown",
   "metadata": {},
   "source": [
    "## Use TTA"
   ]
  },
  {
   "cell_type": "code",
   "execution_count": 62,
   "metadata": {},
   "outputs": [
    {
     "data": {
      "application/vnd.jupyter.widget-view+json": {
       "model_id": "2df0d04fe7b24b5b8dc1c21025c1f218",
       "version_major": 2,
       "version_minor": 0
      },
      "text/plain": [
       "HBox(children=(IntProgress(value=0, max=5), HTML(value='')))"
      ]
     },
     "metadata": {},
     "output_type": "display_data"
    },
    {
     "name": "stdout",
     "output_type": "stream",
     "text": [
      "                                             \r"
     ]
    },
    {
     "data": {
      "text/plain": [
       "'For fold 0, the RMSE = 0.0840'"
      ]
     },
     "metadata": {},
     "output_type": "display_data"
    },
    {
     "name": "stdout",
     "output_type": "stream",
     "text": [
      "                                             \r"
     ]
    },
    {
     "data": {
      "text/plain": [
       "'For fold 1, the RMSE = 0.0830'"
      ]
     },
     "metadata": {},
     "output_type": "display_data"
    },
    {
     "name": "stdout",
     "output_type": "stream",
     "text": [
      "                                             \r"
     ]
    },
    {
     "data": {
      "text/plain": [
       "'For fold 2, the RMSE = 0.0844'"
      ]
     },
     "metadata": {},
     "output_type": "display_data"
    },
    {
     "name": "stdout",
     "output_type": "stream",
     "text": [
      "                                             \r"
     ]
    },
    {
     "data": {
      "text/plain": [
       "'For fold 3, the RMSE = 0.0831'"
      ]
     },
     "metadata": {},
     "output_type": "display_data"
    },
    {
     "name": "stdout",
     "output_type": "stream",
     "text": [
      "                                             \r"
     ]
    },
    {
     "data": {
      "text/plain": [
       "'For fold 4, the RMSE = 0.0837'"
      ]
     },
     "metadata": {},
     "output_type": "display_data"
    }
   ],
   "source": [
    "for k in tqdm_notebook(range(5)):\n",
    "\n",
    "    val_idxs = all_idxs[int(k*n/5):int((k+1)*n/5)]\n",
    "    \n",
    "    data = get_data(arch, sz, bs, val_idxs)\n",
    "\n",
    "    learn = ConvLearner.pretrained(arch, data, pretrained=True)\n",
    "    learn.crit = rmse\n",
    "    \n",
    "    learn.load(f'all-images-oh_p50-fold_{k}')\n",
    "    \n",
    "    Z_pred, Z_true = learn.TTA()\n",
    "    display(f'For fold {k}, the RMSE = {rmse_np(Z_pred.mean(axis=0).flatten(), Z_true.flatten()):.4f}')"
   ]
  },
  {
   "cell_type": "code",
   "execution_count": 64,
   "metadata": {},
   "outputs": [
    {
     "data": {
      "text/plain": [
       "'For this (slightly larger) data set, and with TTA, we find that the RMSE is about 0.0836 +/- 0.0005.'"
      ]
     },
     "metadata": {},
     "output_type": "display_data"
    }
   ],
   "source": [
    "metrics = np.array([0.0840, 0.0830, 0.0844, 0.0831, 0.0837])\n",
    "display(f'For this (slightly larger) data set, and with TTA, we find that the RMSE is about {metrics.mean():.4f} +/- {metrics.std():.4f}.')"
   ]
  },
  {
   "cell_type": "markdown",
   "metadata": {},
   "source": [
    "# Nested cross-validation"
   ]
  },
  {
   "cell_type": "code",
   "execution_count": 109,
   "metadata": {},
   "outputs": [],
   "source": [
    "train_label_csv = f'{PATH}/catalogs/all-images-oh_p50.csv'\n",
    "df = pd.read_csv(train_label_csv, index_col=0)"
   ]
  },
  {
   "cell_type": "code",
   "execution_count": 110,
   "metadata": {},
   "outputs": [],
   "source": [
    "def get_data(arch, sz, bs, val_idxs, test_dir):\n",
    "    tfms = tfms_from_model(arch, sz, aug_tfms=transforms_top_down, max_zoom=1.1)\n",
    "    return ImageClassifierData.from_multiclass_csv(PATH, 'images', train_label_csv, tfms=tfms,\n",
    "                    suffix='.jpg', val_idxs=val_idxs, test_name=test_dir, num_workers=16)"
   ]
  },
  {
   "cell_type": "code",
   "execution_count": 111,
   "metadata": {},
   "outputs": [],
   "source": [
    "sz = 128\n",
    "bs = 128\n",
    "arch = resnet34"
   ]
  },
  {
   "cell_type": "markdown",
   "metadata": {},
   "source": [
    "## Training loop"
   ]
  },
  {
   "cell_type": "code",
   "execution_count": null,
   "metadata": {
    "scrolled": false
   },
   "outputs": [
    {
     "name": "stdout",
     "output_type": "stream",
     "text": [
      "Copying test images\n",
      "100%|██████████| 23285/23285 [00:01<00:00, 13514.03it/s]\n"
     ]
    },
    {
     "data": {
      "application/vnd.jupyter.widget-view+json": {
       "model_id": "b0884746b57a467a90ccf11c1e3ae537",
       "version_major": 2,
       "version_minor": 0
      },
      "text/plain": [
       "HBox(children=(IntProgress(value=0, description='Epoch', max=2), HTML(value='')))"
      ]
     },
     "metadata": {},
     "output_type": "display_data"
    },
    {
     "name": "stdout",
     "output_type": "stream",
     "text": [
      "epoch      trn_loss   val_loss                                 \n",
      "    0      0.154945   0.140887  \n",
      " 33%|███▎      | 506/1529 [00:48<01:37, 10.53it/s, loss=0.159]"
     ]
    }
   ],
   "source": [
    "n = len(df)\n",
    "df = pd.read_csv(train_label_csv, index_col=0)\n",
    "\n",
    "# shuffle\n",
    "df = df.sample(n, random_state=1234)\n",
    "all_idxs = np.arange(n)\n",
    "\n",
    "results_file = f'{PATH}/results/nested-crossval-results.txt'\n",
    "\n",
    "with open(results_file, 'a') as f:\n",
    "    \n",
    "    print(f'Total train + val + test size = {n}', file=f, flush=True)\n",
    "\n",
    "    # test split\n",
    "    for k in range(5):\n",
    "       \n",
    "        print(f'  Test fold {k+1}/5 (size = {int((k+1)*n/5)-int(k*n/5)})', file=f, flush=True)\n",
    "        test_idxs = all_idxs[int(k*n/5):int((k+1)*n/5)]\n",
    "        \n",
    "        df_test = df.iloc[test_idxs]\n",
    "\n",
    "        # copy images over to test dir\n",
    "        test_dir = f'nested_csv-test-fold_{k}'\n",
    "        \n",
    "        print('Copying test images')\n",
    "        for objid in tqdm(df_test.index, total=len(df_test.index)):\n",
    "            shutil.copyfile(f'{PATH}/images/{objid}.jpg', f'{PATH}/{test_dir}/{objid}.jpg')\n",
    "        \n",
    "        train_idxs = np.array(list(set(all_idxs) - set(test_idxs)))\n",
    "        df_train = df.iloc[train_idxs]\n",
    "\n",
    "        n_train = len(df_train)\n",
    "\n",
    "        # crossval split\n",
    "        for k_cv in range(4):\n",
    "\n",
    "            val_idxs = train_idxs[int(k_cv*n_train/5):int((k_cv+1)*n_train/5)]\n",
    "            data = get_data(arch, sz, bs, val_idxs, test_dir)\n",
    "\n",
    "            learn = ConvLearner.pretrained(arch, data, pretrained=True)\n",
    "            learn.crit = rmse\n",
    "\n",
    "            # training regiment\n",
    "            lr = 1e-1\n",
    "            learn.fit(lr, 2)\n",
    "\n",
    "            lrs = [1e-2, 3e-2, 1e-1]\n",
    "            learn.unfreeze()\n",
    "\n",
    "            learn.fit(lrs, 1)\n",
    "            learn.fit(lrs, 3, cycle_len=1, cycle_mult=2)\n",
    "\n",
    "            # save out the learner\n",
    "            learn.save(f'nested_crossval-oh_p50-test_{k}-cv_{k_cv}')\n",
    "            \n",
    "            # report cross-validation results\n",
    "            print(f'    {learn.sched.val_losses[-1][0]:.5f} (Validation) fold {k_cv+1}/4, size = {int((k_cv+1)*n_train/5) - int(k_cv*n_train/5)}', file=f, flush=True)\n",
    "\n",
    "            # do test with TTA\n",
    "            preds, _ = learn.TTA(is_test=True)\n",
    "            Z_pred = preds.mean(axis=0).flatten()\n",
    "            print(len(Z_pred))\n",
    "\n",
    "            test_ids = np.array([os.path.split(fname)[1][:-4] for fname in learn.data.test_ds.fnames], dtype=np.int64)\n",
    "            Z_test = df.loc[test_ids].values.flatten()\n",
    "            print(len(Z_test))\n",
    "            print(f'    {rmse_np(Z_pred, Z_test):.5f} (Test)', file=f, flush=True)\n",
    "\n"
   ]
  },
  {
   "cell_type": "markdown",
   "metadata": {},
   "source": [
    "## Parse results"
   ]
  },
  {
   "cell_type": "code",
   "execution_count": 13,
   "metadata": {},
   "outputs": [],
   "source": [
    "results_file = f'{PATH}/results/nested-crossval-results.txt'\n",
    "\n",
    "with open(results_file, 'r') as f:\n",
    "    lines = f.readlines()\n",
    "    res = np.zeros((2, 4, 5))\n",
    "    \n",
    "    idx = 0\n",
    "    for line in lines:\n",
    "        if line[:4] == '    ':\n",
    "            indices = np.unravel_index(idx, res.shape, order='F')\n",
    "            idx += 1\n",
    "            res[indices] = float(line[4:11])"
   ]
  },
  {
   "cell_type": "code",
   "execution_count": 14,
   "metadata": {},
   "outputs": [
    {
     "data": {
      "text/plain": [
       "array([[[0.08519, 0.08576, 0.08371, 0.08405, 0.0836 ],\n",
       "        [0.08292, 0.08464, 0.08447, 0.08311, 0.08342],\n",
       "        [0.08592, 0.08832, 0.08698, 0.08432, 0.08346],\n",
       "        [0.08395, 0.08511, 0.08376, 0.08583, 0.08451]],\n",
       "\n",
       "       [[0.08381, 0.08425, 0.0815 , 0.08213, 0.08216],\n",
       "        [0.08271, 0.08382, 0.08326, 0.08171, 0.08187],\n",
       "        [0.08369, 0.08851, 0.0849 , 0.08201, 0.08234],\n",
       "        [0.08276, 0.08373, 0.08235, 0.08341, 0.08175]]])"
      ]
     },
     "execution_count": 14,
     "metadata": {},
     "output_type": "execute_result"
    }
   ],
   "source": [
    "res"
   ]
  },
  {
   "cell_type": "code",
   "execution_count": 21,
   "metadata": {},
   "outputs": [],
   "source": [
    "val, test = res"
   ]
  },
  {
   "cell_type": "markdown",
   "metadata": {},
   "source": [
    "- 1st axis is `[val, test]`\n",
    "- 2nd axis is `[val1, val2, val3, val4]`\n",
    "- 3rd axis is `[test1, test2, test3, test4, test5]`"
   ]
  },
  {
   "cell_type": "markdown",
   "metadata": {},
   "source": [
    "### Use best validation score"
   ]
  },
  {
   "cell_type": "code",
   "execution_count": 57,
   "metadata": {},
   "outputs": [
    {
     "name": "stdout",
     "output_type": "stream",
     "text": [
      "[0.08271 0.08382 0.0815  0.08171 0.08187]\n",
      "Best scores = 0.0823 +/- 0.0009\n"
     ]
    }
   ],
   "source": [
    "best_idxs = val.argmin(axis=0)\n",
    "\n",
    "best_scores = np.zeros((5,))\n",
    "for j, t in enumerate(test.T):\n",
    "    best_scores[j] = t[best_idxs[j]]\n",
    "\n",
    "print(best_scores)\n",
    "\n",
    "print(f'Best scores = {best_scores.mean():.4f} +/- {best_scores.std():.4f}')"
   ]
  },
  {
   "cell_type": "markdown",
   "metadata": {},
   "source": [
    "### Use weighted validation score"
   ]
  },
  {
   "cell_type": "code",
   "execution_count": 58,
   "metadata": {},
   "outputs": [
    {
     "name": "stdout",
     "output_type": "stream",
     "text": [
      "[[0.2458  0.25095 0.25594 0.25155 0.25086]\n",
      " [0.25944 0.25764 0.25136 0.25728 0.25195]\n",
      " [0.24164 0.23661 0.23706 0.24994 0.2517 ]\n",
      " [0.25312 0.2548  0.25564 0.24123 0.24549]]\n"
     ]
    }
   ],
   "source": [
    "val_weights = val**-2 / np.sum(val**-2, axis=0)\n",
    "print(val_weights)"
   ]
  },
  {
   "cell_type": "code",
   "execution_count": 59,
   "metadata": {},
   "outputs": [
    {
     "name": "stdout",
     "output_type": "stream",
     "text": [
      "[0.08323 0.08501 0.08297 0.0823  0.08203]\n",
      "Weighted scores = 0.0831 +/- 0.0010\n"
     ]
    }
   ],
   "source": [
    "weighted_scores = (test * val_weights).sum(axis=0)\n",
    "print(weighted_scores)\n",
    "print(f'Weighted scores = {weighted_scores.mean():.4f} +/- {weighted_scores.std():.4f}')"
   ]
  },
  {
   "cell_type": "markdown",
   "metadata": {},
   "source": [
    "### Use average scores"
   ]
  },
  {
   "cell_type": "code",
   "execution_count": 60,
   "metadata": {},
   "outputs": [
    {
     "name": "stdout",
     "output_type": "stream",
     "text": [
      "[0.08324 0.08508 0.083   0.08231 0.08203]\n",
      "Average scores = 0.0831 +/- 0.0011\n"
     ]
    }
   ],
   "source": [
    "avg_scores = test.mean(axis=0)\n",
    "print(avg_scores)\n",
    "print(f'Average scores = {avg_scores.mean():.4f} +/- {avg_scores.std():.4f}')"
   ]
  },
  {
   "cell_type": "markdown",
   "metadata": {},
   "source": [
    "### Use weighted validation score (with a minimum score of 0.080)"
   ]
  },
  {
   "cell_type": "code",
   "execution_count": 63,
   "metadata": {},
   "outputs": [
    {
     "name": "stdout",
     "output_type": "stream",
     "text": [
      "[[0.15028 0.23305 0.33956 0.24647 0.26125]\n",
      " [0.47476 0.35914 0.23391 0.41797 0.28947]\n",
      " [0.1155  0.1117  0.09593 0.21662 0.28282]\n",
      " [0.25945 0.29611 0.33059 0.11894 0.16646]]\n"
     ]
    }
   ],
   "source": [
    "min_val = 0.080\n",
    "reval = (val - min_val)\n",
    "\n",
    "reval_weighted = reval**-2 / np.sum(reval**-2, axis=0)\n",
    "print(reval_weighted)"
   ]
  },
  {
   "cell_type": "code",
   "execution_count": 64,
   "metadata": {},
   "outputs": [
    {
     "name": "stdout",
     "output_type": "stream",
     "text": [
      "[0.083   0.08442 0.08252 0.08208 0.08206]\n",
      "Validation re-weighted scores = 0.0828 +/- 0.0009\n"
     ]
    }
   ],
   "source": [
    "reval_scores = (test * reval_weighted).sum(axis=0)\n",
    "print(reval_scores)\n",
    "print(f'Validation re-weighted scores = {reval_scores.mean():.4f} +/- {reval_scores.std():.4f}')"
   ]
  },
  {
   "cell_type": "markdown",
   "metadata": {},
   "source": [
    "### Results\n",
    "Using the best validation score gives the best result, unsurprisingly. The scores are actually quite low and drop down to $0.0815$ dex. Overall the 5-fold crossval results give us $0.0823 \\pm 0.0009$, showing that the scatter is indeed low."
   ]
  },
  {
   "cell_type": "code",
   "execution_count": null,
   "metadata": {},
   "outputs": [],
   "source": []
  }
 ],
 "metadata": {
  "kernelspec": {
   "display_name": "Python [conda env:fastai]",
   "language": "python",
   "name": "conda-env-fastai-py"
  },
  "language_info": {
   "codemirror_mode": {
    "name": "ipython",
    "version": 3
   },
   "file_extension": ".py",
   "mimetype": "text/x-python",
   "name": "python",
   "nbconvert_exporter": "python",
   "pygments_lexer": "ipython3",
   "version": "3.6.5"
  },
  "toc": {
   "base_numbering": 1,
   "nav_menu": {},
   "number_sections": true,
   "sideBar": true,
   "skip_h1_title": false,
   "title_cell": "Table of Contents",
   "title_sidebar": "Contents",
   "toc_cell": false,
   "toc_position": {},
   "toc_section_display": true,
   "toc_window_display": true
  }
 },
 "nbformat": 4,
 "nbformat_minor": 2
}
